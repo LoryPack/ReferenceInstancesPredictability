{
 "cells": [
  {
   "cell_type": "code",
   "execution_count": 1,
   "id": "c88e669e",
   "metadata": {
    "ExecuteTime": {
     "end_time": "2024-03-28T14:54:15.536864Z",
     "start_time": "2024-03-28T14:54:15.223625Z"
    }
   },
   "outputs": [],
   "source": [
    "from tqdm.notebook import tqdm\n",
    "import os\n",
    "import requests\n",
    "import json\n",
    "import pandas as pd\n",
    "\n",
    "version_to_run = \"v1.0.0\"\n",
    "    \n",
    "###################################################################################################################\n",
    "tasks_path = \"data/filtered_run_path\"\n",
    "#tasks_list = os.listdir(os.path.join(tasks_path, version_to_run))\n",
    "\n",
    "def get_json_from_url(url):\n",
    "    try:\n",
    "        response = requests.get(url)\n",
    "        response.raise_for_status()  # Raise an exception for 4xx or 5xx status codes\n",
    "        json_data = response.json()\n",
    "        return json_data\n",
    "    except requests.exceptions.RequestException as e:\n",
    "        print(f\"An error occurred: {e}\")\n",
    "        return None\n",
    "        \n",
    "overwrite = False"
   ]
  },
  {
   "cell_type": "code",
   "outputs": [],
   "source": [
    "df = pd.read_csv('helm_lite.csv')\n"
   ],
   "metadata": {
    "collapsed": false,
    "ExecuteTime": {
     "end_time": "2024-03-28T14:54:15.579789Z",
     "start_time": "2024-03-28T14:54:15.541799Z"
    }
   },
   "id": "aa15e22334c6d7be",
   "execution_count": 2
  },
  {
   "cell_type": "code",
   "outputs": [
    {
     "data": {
      "text/plain": "Index(['Unnamed: 0', 'Run', 'Model', 'Groups', 'Adapter method',\n       'Subject / Task'],\n      dtype='object')"
     },
     "execution_count": 3,
     "metadata": {},
     "output_type": "execute_result"
    }
   ],
   "source": [
    "df.columns"
   ],
   "metadata": {
    "collapsed": false,
    "ExecuteTime": {
     "end_time": "2024-03-28T14:54:15.607789Z",
     "start_time": "2024-03-28T14:54:15.585886Z"
    }
   },
   "id": "d9c871d18a2dee62",
   "execution_count": 3
  },
  {
   "cell_type": "code",
   "outputs": [
    {
     "data": {
      "text/plain": "   Unnamed: 0                                                Run  \\\n0           0  commonsense:dataset=openbookqa,method=multiple...   \n1           1  commonsense:dataset=openbookqa,method=multiple...   \n2           2  commonsense:dataset=openbookqa,method=multiple...   \n3           3  commonsense:dataset=openbookqa,method=multiple...   \n4           4  commonsense:dataset=openbookqa,method=multiple...   \n\n                          Model      Groups         Adapter method  \\\n0                  01-ai/yi-34b  openbookqa  multiple_choice_joint   \n1                   01-ai/yi-6b  openbookqa  multiple_choice_joint   \n2      AlephAlpha/luminous-base  openbookqa  multiple_choice_joint   \n3  AlephAlpha/luminous-extended  openbookqa  multiple_choice_joint   \n4   AlephAlpha/luminous-supreme  openbookqa  multiple_choice_joint   \n\n  Subject / Task  \n0              -  \n1              -  \n2              -  \n3              -  \n4              -  ",
      "text/html": "<div>\n<style scoped>\n    .dataframe tbody tr th:only-of-type {\n        vertical-align: middle;\n    }\n\n    .dataframe tbody tr th {\n        vertical-align: top;\n    }\n\n    .dataframe thead th {\n        text-align: right;\n    }\n</style>\n<table border=\"1\" class=\"dataframe\">\n  <thead>\n    <tr style=\"text-align: right;\">\n      <th></th>\n      <th>Unnamed: 0</th>\n      <th>Run</th>\n      <th>Model</th>\n      <th>Groups</th>\n      <th>Adapter method</th>\n      <th>Subject / Task</th>\n    </tr>\n  </thead>\n  <tbody>\n    <tr>\n      <th>0</th>\n      <td>0</td>\n      <td>commonsense:dataset=openbookqa,method=multiple...</td>\n      <td>01-ai/yi-34b</td>\n      <td>openbookqa</td>\n      <td>multiple_choice_joint</td>\n      <td>-</td>\n    </tr>\n    <tr>\n      <th>1</th>\n      <td>1</td>\n      <td>commonsense:dataset=openbookqa,method=multiple...</td>\n      <td>01-ai/yi-6b</td>\n      <td>openbookqa</td>\n      <td>multiple_choice_joint</td>\n      <td>-</td>\n    </tr>\n    <tr>\n      <th>2</th>\n      <td>2</td>\n      <td>commonsense:dataset=openbookqa,method=multiple...</td>\n      <td>AlephAlpha/luminous-base</td>\n      <td>openbookqa</td>\n      <td>multiple_choice_joint</td>\n      <td>-</td>\n    </tr>\n    <tr>\n      <th>3</th>\n      <td>3</td>\n      <td>commonsense:dataset=openbookqa,method=multiple...</td>\n      <td>AlephAlpha/luminous-extended</td>\n      <td>openbookqa</td>\n      <td>multiple_choice_joint</td>\n      <td>-</td>\n    </tr>\n    <tr>\n      <th>4</th>\n      <td>4</td>\n      <td>commonsense:dataset=openbookqa,method=multiple...</td>\n      <td>AlephAlpha/luminous-supreme</td>\n      <td>openbookqa</td>\n      <td>multiple_choice_joint</td>\n      <td>-</td>\n    </tr>\n  </tbody>\n</table>\n</div>"
     },
     "execution_count": 4,
     "metadata": {},
     "output_type": "execute_result"
    }
   ],
   "source": [
    "df.head()"
   ],
   "metadata": {
    "collapsed": false,
    "ExecuteTime": {
     "end_time": "2024-03-28T14:54:15.751079Z",
     "start_time": "2024-03-28T14:54:15.612575Z"
    }
   },
   "id": "6c1ac473ed1be395",
   "execution_count": 4
  },
  {
   "cell_type": "code",
   "outputs": [
    {
     "data": {
      "text/plain": "['01-ai/yi-34b',\n '01-ai/yi-6b',\n 'AlephAlpha/luminous-base',\n 'AlephAlpha/luminous-extended',\n 'AlephAlpha/luminous-supreme',\n 'ai21/j2-grande',\n 'ai21/j2-jumbo',\n 'anthropic/claude-2.0',\n 'anthropic/claude-2.1',\n 'anthropic/claude-instant-1.2',\n 'anthropic/claude-v1.3',\n 'cohere/command',\n 'cohere/command-light',\n 'google/text-bison@001',\n 'google/text-unicorn@001',\n 'meta/llama-2-13b',\n 'meta/llama-2-70b',\n 'meta/llama-2-7b',\n 'meta/llama-65b',\n 'mistralai/mistral-7b-v0.1',\n 'mistralai/mixtral-8x7b-32kseqlen',\n 'openai/gpt-3.5-turbo-0613',\n 'openai/gpt-4-0613',\n 'openai/gpt-4-1106-preview',\n 'openai/text-davinci-002',\n 'openai/text-davinci-003',\n 'tiiuae/falcon-40b',\n 'tiiuae/falcon-7b',\n 'writer/palmyra-x-v2',\n 'writer/palmyra-x-v3']"
     },
     "execution_count": 5,
     "metadata": {},
     "output_type": "execute_result"
    }
   ],
   "source": [
    "list(df.Model.unique())"
   ],
   "metadata": {
    "collapsed": false,
    "ExecuteTime": {
     "end_time": "2024-03-28T14:54:15.768647Z",
     "start_time": "2024-03-28T14:54:15.755810Z"
    }
   },
   "id": "d036cd973b07e65c",
   "execution_count": 5
  },
  {
   "cell_type": "code",
   "outputs": [
    {
     "data": {
      "text/plain": "Groups\nmath_chain_of_thought          210\nlegalbench                     150\nmmlu                           150\nwmt_14                         150\nopenbookqa                      30\ngsm                             30\nmed_qa                          30\nnarrative_qa                    30\nnatural_qa_closedbook           30\nnatural_qa_openbook_longans     30\nName: count, dtype: int64"
     },
     "execution_count": 6,
     "metadata": {},
     "output_type": "execute_result"
    }
   ],
   "source": [
    "df.Groups.value_counts()"
   ],
   "metadata": {
    "collapsed": false,
    "ExecuteTime": {
     "end_time": "2024-03-28T14:54:15.789630Z",
     "start_time": "2024-03-28T14:54:15.772882Z"
    }
   },
   "id": "4a01cc182951d7de",
   "execution_count": 6
  },
  {
   "cell_type": "code",
   "outputs": [
    {
     "data": {
      "text/plain": "Groups                       Subject / Task          \nwmt_14                       -                           150\nlegalbench                   -                           150\nopenbookqa                   -                            30\nnatural_qa_openbook_longans  -                            30\nnatural_qa_closedbook        -                            30\nnarrative_qa                 -                            30\nmmlu                         us_foreign_policy            30\n                             econometrics                 30\n                             computer_security            30\n                             college_chemistry            30\ngsm                          -                            30\nmed_qa                       -                            30\nmath_chain_of_thought        precalculus                  30\n                             prealgebra                   30\n                             number_theory                30\n                             intermediate_algebra         30\n                             geometry                     30\n                             counting_and_probability     30\n                             algebra                      30\nmmlu                         abstract_algebra             30\nName: count, dtype: int64"
     },
     "execution_count": 7,
     "metadata": {},
     "output_type": "execute_result"
    }
   ],
   "source": [
    "df[[\"Groups\", \"Subject / Task\"]].value_counts()"
   ],
   "metadata": {
    "collapsed": false,
    "ExecuteTime": {
     "end_time": "2024-03-28T14:54:15.826189Z",
     "start_time": "2024-03-28T14:54:15.795560Z"
    }
   },
   "id": "d8e71fce69fdc704",
   "execution_count": 7
  },
  {
   "cell_type": "markdown",
   "source": [
    "For each scenario, all models are run. MMLU and MATH are split into multiple subjects/tasks (see above). Legalbench is also split into 5 subsets (not recorded in the table above) and wmt_14 is split into 5 different (source_language, target_language) pairs."
   ],
   "metadata": {
    "collapsed": false
   },
   "id": "8775af80a9871f71"
  },
  {
   "cell_type": "markdown",
   "source": [
    "Then for each llm you have:"
   ],
   "metadata": {
    "collapsed": false
   },
   "id": "a3609e4d1e5a3f06"
  },
  {
   "cell_type": "code",
   "outputs": [
    {
     "data": {
      "text/plain": "28.0"
     },
     "execution_count": 8,
     "metadata": {},
     "output_type": "execute_result"
    }
   ],
   "source": [
    "840/30"
   ],
   "metadata": {
    "collapsed": false,
    "ExecuteTime": {
     "end_time": "2024-03-28T14:54:15.848898Z",
     "start_time": "2024-03-28T14:54:15.830750Z"
    }
   },
   "id": "12fb19e60f13a6ee",
   "execution_count": 8
  },
  {
   "cell_type": "markdown",
   "source": [
    "Helm-Lite has 10 scenarios\n",
    "\n",
    "v1.1.0 has 1 new model from Microsoft and an additional one from Mistral (32 models in v1.1.0 and 30 in v1.0.0).\n",
    "\n",
    "There are 840 runs in v1.0.0 and 896 in v1.1.0: the 56 new runs are basically all the previous ones for the new models. \n",
    "\n",
    "For now I will download the v1.0.0 results, it does not change too much."
   ],
   "metadata": {
    "collapsed": false
   },
   "id": "9c3e8253f7c71a3e"
  },
  {
   "cell_type": "code",
   "execution_count": 9,
   "id": "eb686d1e",
   "metadata": {
    "ExecuteTime": {
     "end_time": "2024-03-28T14:54:15.868475Z",
     "start_time": "2024-03-28T14:54:15.860607Z"
    }
   },
   "outputs": [],
   "source": [
    "tasks_list = list(df.Run)"
   ]
  },
  {
   "cell_type": "code",
   "outputs": [
    {
     "data": {
      "text/plain": "['commonsense:dataset=openbookqa,method=multiple_choice_joint,model=01-ai_yi-34b',\n 'commonsense:dataset=openbookqa,method=multiple_choice_joint,model=01-ai_yi-6b',\n 'commonsense:dataset=openbookqa,method=multiple_choice_joint,model=AlephAlpha_luminous-base',\n 'commonsense:dataset=openbookqa,method=multiple_choice_joint,model=AlephAlpha_luminous-extended',\n 'commonsense:dataset=openbookqa,method=multiple_choice_joint,model=AlephAlpha_luminous-supreme',\n 'commonsense:dataset=openbookqa,method=multiple_choice_joint,model=ai21_j2-grande',\n 'commonsense:dataset=openbookqa,method=multiple_choice_joint,model=ai21_j2-jumbo',\n 'commonsense:dataset=openbookqa,method=multiple_choice_joint,model=anthropic_claude-2.0',\n 'commonsense:dataset=openbookqa,method=multiple_choice_joint,model=anthropic_claude-2.1',\n 'commonsense:dataset=openbookqa,method=multiple_choice_joint,model=anthropic_claude-instant-1.2',\n 'commonsense:dataset=openbookqa,method=multiple_choice_joint,model=anthropic_claude-v1.3',\n 'commonsense:dataset=openbookqa,method=multiple_choice_joint,model=cohere_command',\n 'commonsense:dataset=openbookqa,method=multiple_choice_joint,model=cohere_command-light',\n 'commonsense:dataset=openbookqa,method=multiple_choice_joint,model=google_text-bison@001',\n 'commonsense:dataset=openbookqa,method=multiple_choice_joint,model=google_text-unicorn@001',\n 'commonsense:dataset=openbookqa,method=multiple_choice_joint,model=meta_llama-2-13b',\n 'commonsense:dataset=openbookqa,method=multiple_choice_joint,model=meta_llama-2-70b',\n 'commonsense:dataset=openbookqa,method=multiple_choice_joint,model=meta_llama-2-7b',\n 'commonsense:dataset=openbookqa,method=multiple_choice_joint,model=meta_llama-65b',\n 'commonsense:dataset=openbookqa,method=multiple_choice_joint,model=mistralai_mistral-7b-v0.1',\n 'commonsense:dataset=openbookqa,method=multiple_choice_joint,model=mistralai_mixtral-8x7b-32kseqlen',\n 'commonsense:dataset=openbookqa,method=multiple_choice_joint,model=openai_gpt-3.5-turbo-0613',\n 'commonsense:dataset=openbookqa,method=multiple_choice_joint,model=openai_gpt-4-0613',\n 'commonsense:dataset=openbookqa,method=multiple_choice_joint,model=openai_gpt-4-1106-preview',\n 'commonsense:dataset=openbookqa,method=multiple_choice_joint,model=openai_text-davinci-002',\n 'commonsense:dataset=openbookqa,method=multiple_choice_joint,model=openai_text-davinci-003',\n 'commonsense:dataset=openbookqa,method=multiple_choice_joint,model=tiiuae_falcon-40b',\n 'commonsense:dataset=openbookqa,method=multiple_choice_joint,model=tiiuae_falcon-7b',\n 'commonsense:dataset=openbookqa,method=multiple_choice_joint,model=writer_palmyra-x-v2',\n 'commonsense:dataset=openbookqa,method=multiple_choice_joint,model=writer_palmyra-x-v3',\n 'gsm:model=01-ai_yi-34b',\n 'gsm:model=01-ai_yi-6b',\n 'gsm:model=AlephAlpha_luminous-base',\n 'gsm:model=AlephAlpha_luminous-extended',\n 'gsm:model=AlephAlpha_luminous-supreme',\n 'gsm:model=ai21_j2-grande',\n 'gsm:model=ai21_j2-jumbo',\n 'gsm:model=anthropic_claude-2.0',\n 'gsm:model=anthropic_claude-2.1',\n 'gsm:model=anthropic_claude-instant-1.2',\n 'gsm:model=anthropic_claude-v1.3',\n 'gsm:model=cohere_command',\n 'gsm:model=cohere_command-light',\n 'gsm:model=google_text-bison@001',\n 'gsm:model=google_text-unicorn@001',\n 'gsm:model=meta_llama-2-13b',\n 'gsm:model=meta_llama-2-70b',\n 'gsm:model=meta_llama-2-7b',\n 'gsm:model=meta_llama-65b',\n 'gsm:model=mistralai_mistral-7b-v0.1',\n 'gsm:model=mistralai_mixtral-8x7b-32kseqlen',\n 'gsm:model=openai_gpt-3.5-turbo-0613',\n 'gsm:model=openai_gpt-4-0613',\n 'gsm:model=openai_gpt-4-1106-preview',\n 'gsm:model=openai_text-davinci-002',\n 'gsm:model=openai_text-davinci-003',\n 'gsm:model=tiiuae_falcon-40b',\n 'gsm:model=tiiuae_falcon-7b',\n 'gsm:model=writer_palmyra-x-v2',\n 'gsm:model=writer_palmyra-x-v3',\n 'legalbench:subset=abercrombie,model=01-ai_yi-34b',\n 'legalbench:subset=abercrombie,model=01-ai_yi-6b',\n 'legalbench:subset=abercrombie,model=AlephAlpha_luminous-base',\n 'legalbench:subset=abercrombie,model=AlephAlpha_luminous-extended',\n 'legalbench:subset=abercrombie,model=AlephAlpha_luminous-supreme',\n 'legalbench:subset=abercrombie,model=ai21_j2-grande',\n 'legalbench:subset=abercrombie,model=ai21_j2-jumbo',\n 'legalbench:subset=abercrombie,model=anthropic_claude-2.0',\n 'legalbench:subset=abercrombie,model=anthropic_claude-2.1',\n 'legalbench:subset=abercrombie,model=anthropic_claude-instant-1.2',\n 'legalbench:subset=abercrombie,model=anthropic_claude-v1.3',\n 'legalbench:subset=abercrombie,model=cohere_command',\n 'legalbench:subset=abercrombie,model=cohere_command-light',\n 'legalbench:subset=abercrombie,model=google_text-bison@001',\n 'legalbench:subset=abercrombie,model=google_text-unicorn@001',\n 'legalbench:subset=abercrombie,model=meta_llama-2-13b',\n 'legalbench:subset=abercrombie,model=meta_llama-2-70b',\n 'legalbench:subset=abercrombie,model=meta_llama-2-7b',\n 'legalbench:subset=abercrombie,model=meta_llama-65b',\n 'legalbench:subset=abercrombie,model=mistralai_mistral-7b-v0.1',\n 'legalbench:subset=abercrombie,model=mistralai_mixtral-8x7b-32kseqlen',\n 'legalbench:subset=abercrombie,model=openai_gpt-3.5-turbo-0613',\n 'legalbench:subset=abercrombie,model=openai_gpt-4-0613',\n 'legalbench:subset=abercrombie,model=openai_gpt-4-1106-preview',\n 'legalbench:subset=abercrombie,model=openai_text-davinci-002',\n 'legalbench:subset=abercrombie,model=openai_text-davinci-003',\n 'legalbench:subset=abercrombie,model=tiiuae_falcon-40b',\n 'legalbench:subset=abercrombie,model=tiiuae_falcon-7b',\n 'legalbench:subset=abercrombie,model=writer_palmyra-x-v2',\n 'legalbench:subset=abercrombie,model=writer_palmyra-x-v3',\n 'legalbench:subset=corporate_lobbying,model=01-ai_yi-34b',\n 'legalbench:subset=corporate_lobbying,model=01-ai_yi-6b',\n 'legalbench:subset=corporate_lobbying,model=AlephAlpha_luminous-base',\n 'legalbench:subset=corporate_lobbying,model=AlephAlpha_luminous-extended',\n 'legalbench:subset=corporate_lobbying,model=AlephAlpha_luminous-supreme',\n 'legalbench:subset=corporate_lobbying,model=ai21_j2-grande',\n 'legalbench:subset=corporate_lobbying,model=ai21_j2-jumbo',\n 'legalbench:subset=corporate_lobbying,model=anthropic_claude-2.0',\n 'legalbench:subset=corporate_lobbying,model=anthropic_claude-2.1',\n 'legalbench:subset=corporate_lobbying,model=anthropic_claude-instant-1.2',\n 'legalbench:subset=corporate_lobbying,model=anthropic_claude-v1.3',\n 'legalbench:subset=corporate_lobbying,model=cohere_command',\n 'legalbench:subset=corporate_lobbying,model=cohere_command-light',\n 'legalbench:subset=corporate_lobbying,model=google_text-bison@001',\n 'legalbench:subset=corporate_lobbying,model=google_text-unicorn@001',\n 'legalbench:subset=corporate_lobbying,model=meta_llama-2-13b',\n 'legalbench:subset=corporate_lobbying,model=meta_llama-2-70b',\n 'legalbench:subset=corporate_lobbying,model=meta_llama-2-7b',\n 'legalbench:subset=corporate_lobbying,model=meta_llama-65b',\n 'legalbench:subset=corporate_lobbying,model=mistralai_mistral-7b-v0.1',\n 'legalbench:subset=corporate_lobbying,model=mistralai_mixtral-8x7b-32kseqlen',\n 'legalbench:subset=corporate_lobbying,model=openai_gpt-3.5-turbo-0613',\n 'legalbench:subset=corporate_lobbying,model=openai_gpt-4-0613',\n 'legalbench:subset=corporate_lobbying,model=openai_gpt-4-1106-preview',\n 'legalbench:subset=corporate_lobbying,model=openai_text-davinci-002',\n 'legalbench:subset=corporate_lobbying,model=openai_text-davinci-003',\n 'legalbench:subset=corporate_lobbying,model=tiiuae_falcon-40b',\n 'legalbench:subset=corporate_lobbying,model=tiiuae_falcon-7b',\n 'legalbench:subset=corporate_lobbying,model=writer_palmyra-x-v2',\n 'legalbench:subset=corporate_lobbying,model=writer_palmyra-x-v3',\n 'legalbench:subset=function_of_decision_section,model=01-ai_yi-34b',\n 'legalbench:subset=function_of_decision_section,model=01-ai_yi-6b',\n 'legalbench:subset=function_of_decision_section,model=AlephAlpha_luminous-base',\n 'legalbench:subset=function_of_decision_section,model=AlephAlpha_luminous-extended',\n 'legalbench:subset=function_of_decision_section,model=AlephAlpha_luminous-supreme',\n 'legalbench:subset=function_of_decision_section,model=ai21_j2-grande',\n 'legalbench:subset=function_of_decision_section,model=ai21_j2-jumbo',\n 'legalbench:subset=function_of_decision_section,model=anthropic_claude-2.0',\n 'legalbench:subset=function_of_decision_section,model=anthropic_claude-2.1',\n 'legalbench:subset=function_of_decision_section,model=anthropic_claude-instant-1.2',\n 'legalbench:subset=function_of_decision_section,model=anthropic_claude-v1.3',\n 'legalbench:subset=function_of_decision_section,model=cohere_command',\n 'legalbench:subset=function_of_decision_section,model=cohere_command-light',\n 'legalbench:subset=function_of_decision_section,model=google_text-bison@001',\n 'legalbench:subset=function_of_decision_section,model=google_text-unicorn@001',\n 'legalbench:subset=function_of_decision_section,model=meta_llama-2-13b',\n 'legalbench:subset=function_of_decision_section,model=meta_llama-2-70b',\n 'legalbench:subset=function_of_decision_section,model=meta_llama-2-7b',\n 'legalbench:subset=function_of_decision_section,model=meta_llama-65b',\n 'legalbench:subset=function_of_decision_section,model=mistralai_mistral-7b-v0.1',\n 'legalbench:subset=function_of_decision_section,model=mistralai_mixtral-8x7b-32kseqlen',\n 'legalbench:subset=function_of_decision_section,model=openai_gpt-3.5-turbo-0613',\n 'legalbench:subset=function_of_decision_section,model=openai_gpt-4-0613',\n 'legalbench:subset=function_of_decision_section,model=openai_gpt-4-1106-preview',\n 'legalbench:subset=function_of_decision_section,model=openai_text-davinci-002',\n 'legalbench:subset=function_of_decision_section,model=openai_text-davinci-003',\n 'legalbench:subset=function_of_decision_section,model=tiiuae_falcon-40b',\n 'legalbench:subset=function_of_decision_section,model=tiiuae_falcon-7b',\n 'legalbench:subset=function_of_decision_section,model=writer_palmyra-x-v2',\n 'legalbench:subset=function_of_decision_section,model=writer_palmyra-x-v3',\n 'legalbench:subset=international_citizenship_questions,model=01-ai_yi-34b',\n 'legalbench:subset=international_citizenship_questions,model=01-ai_yi-6b',\n 'legalbench:subset=international_citizenship_questions,model=AlephAlpha_luminous-base',\n 'legalbench:subset=international_citizenship_questions,model=AlephAlpha_luminous-extended',\n 'legalbench:subset=international_citizenship_questions,model=AlephAlpha_luminous-supreme',\n 'legalbench:subset=international_citizenship_questions,model=ai21_j2-grande',\n 'legalbench:subset=international_citizenship_questions,model=ai21_j2-jumbo',\n 'legalbench:subset=international_citizenship_questions,model=anthropic_claude-2.0',\n 'legalbench:subset=international_citizenship_questions,model=anthropic_claude-2.1',\n 'legalbench:subset=international_citizenship_questions,model=anthropic_claude-instant-1.2',\n 'legalbench:subset=international_citizenship_questions,model=anthropic_claude-v1.3',\n 'legalbench:subset=international_citizenship_questions,model=cohere_command',\n 'legalbench:subset=international_citizenship_questions,model=cohere_command-light',\n 'legalbench:subset=international_citizenship_questions,model=google_text-bison@001',\n 'legalbench:subset=international_citizenship_questions,model=google_text-unicorn@001',\n 'legalbench:subset=international_citizenship_questions,model=meta_llama-2-13b',\n 'legalbench:subset=international_citizenship_questions,model=meta_llama-2-70b',\n 'legalbench:subset=international_citizenship_questions,model=meta_llama-2-7b',\n 'legalbench:subset=international_citizenship_questions,model=meta_llama-65b',\n 'legalbench:subset=international_citizenship_questions,model=mistralai_mistral-7b-v0.1',\n 'legalbench:subset=international_citizenship_questions,model=mistralai_mixtral-8x7b-32kseqlen',\n 'legalbench:subset=international_citizenship_questions,model=openai_gpt-3.5-turbo-0613',\n 'legalbench:subset=international_citizenship_questions,model=openai_gpt-4-0613',\n 'legalbench:subset=international_citizenship_questions,model=openai_gpt-4-1106-preview',\n 'legalbench:subset=international_citizenship_questions,model=openai_text-davinci-002',\n 'legalbench:subset=international_citizenship_questions,model=openai_text-davinci-003',\n 'legalbench:subset=international_citizenship_questions,model=tiiuae_falcon-40b',\n 'legalbench:subset=international_citizenship_questions,model=tiiuae_falcon-7b',\n 'legalbench:subset=international_citizenship_questions,model=writer_palmyra-x-v2',\n 'legalbench:subset=international_citizenship_questions,model=writer_palmyra-x-v3',\n 'legalbench:subset=proa,model=01-ai_yi-34b',\n 'legalbench:subset=proa,model=01-ai_yi-6b',\n 'legalbench:subset=proa,model=AlephAlpha_luminous-base',\n 'legalbench:subset=proa,model=AlephAlpha_luminous-extended',\n 'legalbench:subset=proa,model=AlephAlpha_luminous-supreme',\n 'legalbench:subset=proa,model=ai21_j2-grande',\n 'legalbench:subset=proa,model=ai21_j2-jumbo',\n 'legalbench:subset=proa,model=anthropic_claude-2.0',\n 'legalbench:subset=proa,model=anthropic_claude-2.1',\n 'legalbench:subset=proa,model=anthropic_claude-instant-1.2',\n 'legalbench:subset=proa,model=anthropic_claude-v1.3',\n 'legalbench:subset=proa,model=cohere_command',\n 'legalbench:subset=proa,model=cohere_command-light',\n 'legalbench:subset=proa,model=google_text-bison@001',\n 'legalbench:subset=proa,model=google_text-unicorn@001',\n 'legalbench:subset=proa,model=meta_llama-2-13b',\n 'legalbench:subset=proa,model=meta_llama-2-70b',\n 'legalbench:subset=proa,model=meta_llama-2-7b',\n 'legalbench:subset=proa,model=meta_llama-65b',\n 'legalbench:subset=proa,model=mistralai_mistral-7b-v0.1',\n 'legalbench:subset=proa,model=mistralai_mixtral-8x7b-32kseqlen',\n 'legalbench:subset=proa,model=openai_gpt-3.5-turbo-0613',\n 'legalbench:subset=proa,model=openai_gpt-4-0613',\n 'legalbench:subset=proa,model=openai_gpt-4-1106-preview',\n 'legalbench:subset=proa,model=openai_text-davinci-002',\n 'legalbench:subset=proa,model=openai_text-davinci-003',\n 'legalbench:subset=proa,model=tiiuae_falcon-40b',\n 'legalbench:subset=proa,model=tiiuae_falcon-7b',\n 'legalbench:subset=proa,model=writer_palmyra-x-v2',\n 'legalbench:subset=proa,model=writer_palmyra-x-v3',\n 'math:subject=algebra,level=1,use_official_examples=False,use_chain_of_thought=True,model=01-ai_yi-34b',\n 'math:subject=algebra,level=1,use_official_examples=False,use_chain_of_thought=True,model=01-ai_yi-6b',\n 'math:subject=algebra,level=1,use_official_examples=False,use_chain_of_thought=True,model=AlephAlpha_luminous-base',\n 'math:subject=algebra,level=1,use_official_examples=False,use_chain_of_thought=True,model=AlephAlpha_luminous-extended',\n 'math:subject=algebra,level=1,use_official_examples=False,use_chain_of_thought=True,model=AlephAlpha_luminous-supreme',\n 'math:subject=algebra,level=1,use_official_examples=False,use_chain_of_thought=True,model=ai21_j2-grande',\n 'math:subject=algebra,level=1,use_official_examples=False,use_chain_of_thought=True,model=ai21_j2-jumbo',\n 'math:subject=algebra,level=1,use_official_examples=False,use_chain_of_thought=True,model=anthropic_claude-2.0',\n 'math:subject=algebra,level=1,use_official_examples=False,use_chain_of_thought=True,model=anthropic_claude-2.1',\n 'math:subject=algebra,level=1,use_official_examples=False,use_chain_of_thought=True,model=anthropic_claude-instant-1.2',\n 'math:subject=algebra,level=1,use_official_examples=False,use_chain_of_thought=True,model=anthropic_claude-v1.3',\n 'math:subject=algebra,level=1,use_official_examples=False,use_chain_of_thought=True,model=cohere_command',\n 'math:subject=algebra,level=1,use_official_examples=False,use_chain_of_thought=True,model=cohere_command-light',\n 'math:subject=algebra,level=1,use_official_examples=False,use_chain_of_thought=True,model=google_text-bison@001',\n 'math:subject=algebra,level=1,use_official_examples=False,use_chain_of_thought=True,model=google_text-unicorn@001',\n 'math:subject=algebra,level=1,use_official_examples=False,use_chain_of_thought=True,model=meta_llama-2-13b',\n 'math:subject=algebra,level=1,use_official_examples=False,use_chain_of_thought=True,model=meta_llama-2-70b',\n 'math:subject=algebra,level=1,use_official_examples=False,use_chain_of_thought=True,model=meta_llama-2-7b',\n 'math:subject=algebra,level=1,use_official_examples=False,use_chain_of_thought=True,model=meta_llama-65b',\n 'math:subject=algebra,level=1,use_official_examples=False,use_chain_of_thought=True,model=mistralai_mistral-7b-v0.1',\n 'math:subject=algebra,level=1,use_official_examples=False,use_chain_of_thought=True,model=mistralai_mixtral-8x7b-32kseqlen',\n 'math:subject=algebra,level=1,use_official_examples=False,use_chain_of_thought=True,model=openai_gpt-3.5-turbo-0613',\n 'math:subject=algebra,level=1,use_official_examples=False,use_chain_of_thought=True,model=openai_gpt-4-0613',\n 'math:subject=algebra,level=1,use_official_examples=False,use_chain_of_thought=True,model=openai_gpt-4-1106-preview',\n 'math:subject=algebra,level=1,use_official_examples=False,use_chain_of_thought=True,model=openai_text-davinci-002',\n 'math:subject=algebra,level=1,use_official_examples=False,use_chain_of_thought=True,model=openai_text-davinci-003',\n 'math:subject=algebra,level=1,use_official_examples=False,use_chain_of_thought=True,model=tiiuae_falcon-40b',\n 'math:subject=algebra,level=1,use_official_examples=False,use_chain_of_thought=True,model=tiiuae_falcon-7b',\n 'math:subject=algebra,level=1,use_official_examples=False,use_chain_of_thought=True,model=writer_palmyra-x-v2',\n 'math:subject=algebra,level=1,use_official_examples=False,use_chain_of_thought=True,model=writer_palmyra-x-v3',\n 'math:subject=counting_and_probability,level=1,use_official_examples=False,use_chain_of_thought=True,model=01-ai_yi-34b',\n 'math:subject=counting_and_probability,level=1,use_official_examples=False,use_chain_of_thought=True,model=01-ai_yi-6b',\n 'math:subject=counting_and_probability,level=1,use_official_examples=False,use_chain_of_thought=True,model=AlephAlpha_luminous-base',\n 'math:subject=counting_and_probability,level=1,use_official_examples=False,use_chain_of_thought=True,model=AlephAlpha_luminous-extended',\n 'math:subject=counting_and_probability,level=1,use_official_examples=False,use_chain_of_thought=True,model=AlephAlpha_luminous-supreme',\n 'math:subject=counting_and_probability,level=1,use_official_examples=False,use_chain_of_thought=True,model=ai21_j2-grande',\n 'math:subject=counting_and_probability,level=1,use_official_examples=False,use_chain_of_thought=True,model=ai21_j2-jumbo',\n 'math:subject=counting_and_probability,level=1,use_official_examples=False,use_chain_of_thought=True,model=anthropic_claude-2.0',\n 'math:subject=counting_and_probability,level=1,use_official_examples=False,use_chain_of_thought=True,model=anthropic_claude-2.1',\n 'math:subject=counting_and_probability,level=1,use_official_examples=False,use_chain_of_thought=True,model=anthropic_claude-instant-1.2',\n 'math:subject=counting_and_probability,level=1,use_official_examples=False,use_chain_of_thought=True,model=anthropic_claude-v1.3',\n 'math:subject=counting_and_probability,level=1,use_official_examples=False,use_chain_of_thought=True,model=cohere_command',\n 'math:subject=counting_and_probability,level=1,use_official_examples=False,use_chain_of_thought=True,model=cohere_command-light',\n 'math:subject=counting_and_probability,level=1,use_official_examples=False,use_chain_of_thought=True,model=google_text-bison@001',\n 'math:subject=counting_and_probability,level=1,use_official_examples=False,use_chain_of_thought=True,model=google_text-unicorn@001',\n 'math:subject=counting_and_probability,level=1,use_official_examples=False,use_chain_of_thought=True,model=meta_llama-2-13b',\n 'math:subject=counting_and_probability,level=1,use_official_examples=False,use_chain_of_thought=True,model=meta_llama-2-70b',\n 'math:subject=counting_and_probability,level=1,use_official_examples=False,use_chain_of_thought=True,model=meta_llama-2-7b',\n 'math:subject=counting_and_probability,level=1,use_official_examples=False,use_chain_of_thought=True,model=meta_llama-65b',\n 'math:subject=counting_and_probability,level=1,use_official_examples=False,use_chain_of_thought=True,model=mistralai_mistral-7b-v0.1',\n 'math:subject=counting_and_probability,level=1,use_official_examples=False,use_chain_of_thought=True,model=mistralai_mixtral-8x7b-32kseqlen',\n 'math:subject=counting_and_probability,level=1,use_official_examples=False,use_chain_of_thought=True,model=openai_gpt-3.5-turbo-0613',\n 'math:subject=counting_and_probability,level=1,use_official_examples=False,use_chain_of_thought=True,model=openai_gpt-4-0613',\n 'math:subject=counting_and_probability,level=1,use_official_examples=False,use_chain_of_thought=True,model=openai_gpt-4-1106-preview',\n 'math:subject=counting_and_probability,level=1,use_official_examples=False,use_chain_of_thought=True,model=openai_text-davinci-002',\n 'math:subject=counting_and_probability,level=1,use_official_examples=False,use_chain_of_thought=True,model=openai_text-davinci-003',\n 'math:subject=counting_and_probability,level=1,use_official_examples=False,use_chain_of_thought=True,model=tiiuae_falcon-40b',\n 'math:subject=counting_and_probability,level=1,use_official_examples=False,use_chain_of_thought=True,model=tiiuae_falcon-7b',\n 'math:subject=counting_and_probability,level=1,use_official_examples=False,use_chain_of_thought=True,model=writer_palmyra-x-v2',\n 'math:subject=counting_and_probability,level=1,use_official_examples=False,use_chain_of_thought=True,model=writer_palmyra-x-v3',\n 'math:subject=geometry,level=1,use_official_examples=False,use_chain_of_thought=True,model=01-ai_yi-34b',\n 'math:subject=geometry,level=1,use_official_examples=False,use_chain_of_thought=True,model=01-ai_yi-6b',\n 'math:subject=geometry,level=1,use_official_examples=False,use_chain_of_thought=True,model=AlephAlpha_luminous-base',\n 'math:subject=geometry,level=1,use_official_examples=False,use_chain_of_thought=True,model=AlephAlpha_luminous-extended',\n 'math:subject=geometry,level=1,use_official_examples=False,use_chain_of_thought=True,model=AlephAlpha_luminous-supreme',\n 'math:subject=geometry,level=1,use_official_examples=False,use_chain_of_thought=True,model=ai21_j2-grande',\n 'math:subject=geometry,level=1,use_official_examples=False,use_chain_of_thought=True,model=ai21_j2-jumbo',\n 'math:subject=geometry,level=1,use_official_examples=False,use_chain_of_thought=True,model=anthropic_claude-2.0',\n 'math:subject=geometry,level=1,use_official_examples=False,use_chain_of_thought=True,model=anthropic_claude-2.1',\n 'math:subject=geometry,level=1,use_official_examples=False,use_chain_of_thought=True,model=anthropic_claude-instant-1.2',\n 'math:subject=geometry,level=1,use_official_examples=False,use_chain_of_thought=True,model=anthropic_claude-v1.3',\n 'math:subject=geometry,level=1,use_official_examples=False,use_chain_of_thought=True,model=cohere_command',\n 'math:subject=geometry,level=1,use_official_examples=False,use_chain_of_thought=True,model=cohere_command-light',\n 'math:subject=geometry,level=1,use_official_examples=False,use_chain_of_thought=True,model=google_text-bison@001',\n 'math:subject=geometry,level=1,use_official_examples=False,use_chain_of_thought=True,model=google_text-unicorn@001',\n 'math:subject=geometry,level=1,use_official_examples=False,use_chain_of_thought=True,model=meta_llama-2-13b',\n 'math:subject=geometry,level=1,use_official_examples=False,use_chain_of_thought=True,model=meta_llama-2-70b',\n 'math:subject=geometry,level=1,use_official_examples=False,use_chain_of_thought=True,model=meta_llama-2-7b',\n 'math:subject=geometry,level=1,use_official_examples=False,use_chain_of_thought=True,model=meta_llama-65b',\n 'math:subject=geometry,level=1,use_official_examples=False,use_chain_of_thought=True,model=mistralai_mistral-7b-v0.1',\n 'math:subject=geometry,level=1,use_official_examples=False,use_chain_of_thought=True,model=mistralai_mixtral-8x7b-32kseqlen',\n 'math:subject=geometry,level=1,use_official_examples=False,use_chain_of_thought=True,model=openai_gpt-3.5-turbo-0613',\n 'math:subject=geometry,level=1,use_official_examples=False,use_chain_of_thought=True,model=openai_gpt-4-0613',\n 'math:subject=geometry,level=1,use_official_examples=False,use_chain_of_thought=True,model=openai_gpt-4-1106-preview',\n 'math:subject=geometry,level=1,use_official_examples=False,use_chain_of_thought=True,model=openai_text-davinci-002',\n 'math:subject=geometry,level=1,use_official_examples=False,use_chain_of_thought=True,model=openai_text-davinci-003',\n 'math:subject=geometry,level=1,use_official_examples=False,use_chain_of_thought=True,model=tiiuae_falcon-40b',\n 'math:subject=geometry,level=1,use_official_examples=False,use_chain_of_thought=True,model=tiiuae_falcon-7b',\n 'math:subject=geometry,level=1,use_official_examples=False,use_chain_of_thought=True,model=writer_palmyra-x-v2',\n 'math:subject=geometry,level=1,use_official_examples=False,use_chain_of_thought=True,model=writer_palmyra-x-v3',\n 'math:subject=intermediate_algebra,level=1,use_official_examples=False,use_chain_of_thought=True,model=01-ai_yi-34b',\n 'math:subject=intermediate_algebra,level=1,use_official_examples=False,use_chain_of_thought=True,model=01-ai_yi-6b',\n 'math:subject=intermediate_algebra,level=1,use_official_examples=False,use_chain_of_thought=True,model=AlephAlpha_luminous-base',\n 'math:subject=intermediate_algebra,level=1,use_official_examples=False,use_chain_of_thought=True,model=AlephAlpha_luminous-extended',\n 'math:subject=intermediate_algebra,level=1,use_official_examples=False,use_chain_of_thought=True,model=AlephAlpha_luminous-supreme',\n 'math:subject=intermediate_algebra,level=1,use_official_examples=False,use_chain_of_thought=True,model=ai21_j2-grande',\n 'math:subject=intermediate_algebra,level=1,use_official_examples=False,use_chain_of_thought=True,model=ai21_j2-jumbo',\n 'math:subject=intermediate_algebra,level=1,use_official_examples=False,use_chain_of_thought=True,model=anthropic_claude-2.0',\n 'math:subject=intermediate_algebra,level=1,use_official_examples=False,use_chain_of_thought=True,model=anthropic_claude-2.1',\n 'math:subject=intermediate_algebra,level=1,use_official_examples=False,use_chain_of_thought=True,model=anthropic_claude-instant-1.2',\n 'math:subject=intermediate_algebra,level=1,use_official_examples=False,use_chain_of_thought=True,model=anthropic_claude-v1.3',\n 'math:subject=intermediate_algebra,level=1,use_official_examples=False,use_chain_of_thought=True,model=cohere_command',\n 'math:subject=intermediate_algebra,level=1,use_official_examples=False,use_chain_of_thought=True,model=cohere_command-light',\n 'math:subject=intermediate_algebra,level=1,use_official_examples=False,use_chain_of_thought=True,model=google_text-bison@001',\n 'math:subject=intermediate_algebra,level=1,use_official_examples=False,use_chain_of_thought=True,model=google_text-unicorn@001',\n 'math:subject=intermediate_algebra,level=1,use_official_examples=False,use_chain_of_thought=True,model=meta_llama-2-13b',\n 'math:subject=intermediate_algebra,level=1,use_official_examples=False,use_chain_of_thought=True,model=meta_llama-2-70b',\n 'math:subject=intermediate_algebra,level=1,use_official_examples=False,use_chain_of_thought=True,model=meta_llama-2-7b',\n 'math:subject=intermediate_algebra,level=1,use_official_examples=False,use_chain_of_thought=True,model=meta_llama-65b',\n 'math:subject=intermediate_algebra,level=1,use_official_examples=False,use_chain_of_thought=True,model=mistralai_mistral-7b-v0.1',\n 'math:subject=intermediate_algebra,level=1,use_official_examples=False,use_chain_of_thought=True,model=mistralai_mixtral-8x7b-32kseqlen',\n 'math:subject=intermediate_algebra,level=1,use_official_examples=False,use_chain_of_thought=True,model=openai_gpt-3.5-turbo-0613',\n 'math:subject=intermediate_algebra,level=1,use_official_examples=False,use_chain_of_thought=True,model=openai_gpt-4-0613',\n 'math:subject=intermediate_algebra,level=1,use_official_examples=False,use_chain_of_thought=True,model=openai_gpt-4-1106-preview',\n 'math:subject=intermediate_algebra,level=1,use_official_examples=False,use_chain_of_thought=True,model=openai_text-davinci-002',\n 'math:subject=intermediate_algebra,level=1,use_official_examples=False,use_chain_of_thought=True,model=openai_text-davinci-003',\n 'math:subject=intermediate_algebra,level=1,use_official_examples=False,use_chain_of_thought=True,model=tiiuae_falcon-40b',\n 'math:subject=intermediate_algebra,level=1,use_official_examples=False,use_chain_of_thought=True,model=tiiuae_falcon-7b',\n 'math:subject=intermediate_algebra,level=1,use_official_examples=False,use_chain_of_thought=True,model=writer_palmyra-x-v2',\n 'math:subject=intermediate_algebra,level=1,use_official_examples=False,use_chain_of_thought=True,model=writer_palmyra-x-v3',\n 'math:subject=number_theory,level=1,use_official_examples=False,use_chain_of_thought=True,model=01-ai_yi-34b',\n 'math:subject=number_theory,level=1,use_official_examples=False,use_chain_of_thought=True,model=01-ai_yi-6b',\n 'math:subject=number_theory,level=1,use_official_examples=False,use_chain_of_thought=True,model=AlephAlpha_luminous-base',\n 'math:subject=number_theory,level=1,use_official_examples=False,use_chain_of_thought=True,model=AlephAlpha_luminous-extended',\n 'math:subject=number_theory,level=1,use_official_examples=False,use_chain_of_thought=True,model=AlephAlpha_luminous-supreme',\n 'math:subject=number_theory,level=1,use_official_examples=False,use_chain_of_thought=True,model=ai21_j2-grande',\n 'math:subject=number_theory,level=1,use_official_examples=False,use_chain_of_thought=True,model=ai21_j2-jumbo',\n 'math:subject=number_theory,level=1,use_official_examples=False,use_chain_of_thought=True,model=anthropic_claude-2.0',\n 'math:subject=number_theory,level=1,use_official_examples=False,use_chain_of_thought=True,model=anthropic_claude-2.1',\n 'math:subject=number_theory,level=1,use_official_examples=False,use_chain_of_thought=True,model=anthropic_claude-instant-1.2',\n 'math:subject=number_theory,level=1,use_official_examples=False,use_chain_of_thought=True,model=anthropic_claude-v1.3',\n 'math:subject=number_theory,level=1,use_official_examples=False,use_chain_of_thought=True,model=cohere_command',\n 'math:subject=number_theory,level=1,use_official_examples=False,use_chain_of_thought=True,model=cohere_command-light',\n 'math:subject=number_theory,level=1,use_official_examples=False,use_chain_of_thought=True,model=google_text-bison@001',\n 'math:subject=number_theory,level=1,use_official_examples=False,use_chain_of_thought=True,model=google_text-unicorn@001',\n 'math:subject=number_theory,level=1,use_official_examples=False,use_chain_of_thought=True,model=meta_llama-2-13b',\n 'math:subject=number_theory,level=1,use_official_examples=False,use_chain_of_thought=True,model=meta_llama-2-70b',\n 'math:subject=number_theory,level=1,use_official_examples=False,use_chain_of_thought=True,model=meta_llama-2-7b',\n 'math:subject=number_theory,level=1,use_official_examples=False,use_chain_of_thought=True,model=meta_llama-65b',\n 'math:subject=number_theory,level=1,use_official_examples=False,use_chain_of_thought=True,model=mistralai_mistral-7b-v0.1',\n 'math:subject=number_theory,level=1,use_official_examples=False,use_chain_of_thought=True,model=mistralai_mixtral-8x7b-32kseqlen',\n 'math:subject=number_theory,level=1,use_official_examples=False,use_chain_of_thought=True,model=openai_gpt-3.5-turbo-0613',\n 'math:subject=number_theory,level=1,use_official_examples=False,use_chain_of_thought=True,model=openai_gpt-4-0613',\n 'math:subject=number_theory,level=1,use_official_examples=False,use_chain_of_thought=True,model=openai_gpt-4-1106-preview',\n 'math:subject=number_theory,level=1,use_official_examples=False,use_chain_of_thought=True,model=openai_text-davinci-002',\n 'math:subject=number_theory,level=1,use_official_examples=False,use_chain_of_thought=True,model=openai_text-davinci-003',\n 'math:subject=number_theory,level=1,use_official_examples=False,use_chain_of_thought=True,model=tiiuae_falcon-40b',\n 'math:subject=number_theory,level=1,use_official_examples=False,use_chain_of_thought=True,model=tiiuae_falcon-7b',\n 'math:subject=number_theory,level=1,use_official_examples=False,use_chain_of_thought=True,model=writer_palmyra-x-v2',\n 'math:subject=number_theory,level=1,use_official_examples=False,use_chain_of_thought=True,model=writer_palmyra-x-v3',\n 'math:subject=prealgebra,level=1,use_official_examples=False,use_chain_of_thought=True,model=01-ai_yi-34b',\n 'math:subject=prealgebra,level=1,use_official_examples=False,use_chain_of_thought=True,model=01-ai_yi-6b',\n 'math:subject=prealgebra,level=1,use_official_examples=False,use_chain_of_thought=True,model=AlephAlpha_luminous-base',\n 'math:subject=prealgebra,level=1,use_official_examples=False,use_chain_of_thought=True,model=AlephAlpha_luminous-extended',\n 'math:subject=prealgebra,level=1,use_official_examples=False,use_chain_of_thought=True,model=AlephAlpha_luminous-supreme',\n 'math:subject=prealgebra,level=1,use_official_examples=False,use_chain_of_thought=True,model=ai21_j2-grande',\n 'math:subject=prealgebra,level=1,use_official_examples=False,use_chain_of_thought=True,model=ai21_j2-jumbo',\n 'math:subject=prealgebra,level=1,use_official_examples=False,use_chain_of_thought=True,model=anthropic_claude-2.0',\n 'math:subject=prealgebra,level=1,use_official_examples=False,use_chain_of_thought=True,model=anthropic_claude-2.1',\n 'math:subject=prealgebra,level=1,use_official_examples=False,use_chain_of_thought=True,model=anthropic_claude-instant-1.2',\n 'math:subject=prealgebra,level=1,use_official_examples=False,use_chain_of_thought=True,model=anthropic_claude-v1.3',\n 'math:subject=prealgebra,level=1,use_official_examples=False,use_chain_of_thought=True,model=cohere_command',\n 'math:subject=prealgebra,level=1,use_official_examples=False,use_chain_of_thought=True,model=cohere_command-light',\n 'math:subject=prealgebra,level=1,use_official_examples=False,use_chain_of_thought=True,model=google_text-bison@001',\n 'math:subject=prealgebra,level=1,use_official_examples=False,use_chain_of_thought=True,model=google_text-unicorn@001',\n 'math:subject=prealgebra,level=1,use_official_examples=False,use_chain_of_thought=True,model=meta_llama-2-13b',\n 'math:subject=prealgebra,level=1,use_official_examples=False,use_chain_of_thought=True,model=meta_llama-2-70b',\n 'math:subject=prealgebra,level=1,use_official_examples=False,use_chain_of_thought=True,model=meta_llama-2-7b',\n 'math:subject=prealgebra,level=1,use_official_examples=False,use_chain_of_thought=True,model=meta_llama-65b',\n 'math:subject=prealgebra,level=1,use_official_examples=False,use_chain_of_thought=True,model=mistralai_mistral-7b-v0.1',\n 'math:subject=prealgebra,level=1,use_official_examples=False,use_chain_of_thought=True,model=mistralai_mixtral-8x7b-32kseqlen',\n 'math:subject=prealgebra,level=1,use_official_examples=False,use_chain_of_thought=True,model=openai_gpt-3.5-turbo-0613',\n 'math:subject=prealgebra,level=1,use_official_examples=False,use_chain_of_thought=True,model=openai_gpt-4-0613',\n 'math:subject=prealgebra,level=1,use_official_examples=False,use_chain_of_thought=True,model=openai_gpt-4-1106-preview',\n 'math:subject=prealgebra,level=1,use_official_examples=False,use_chain_of_thought=True,model=openai_text-davinci-002',\n 'math:subject=prealgebra,level=1,use_official_examples=False,use_chain_of_thought=True,model=openai_text-davinci-003',\n 'math:subject=prealgebra,level=1,use_official_examples=False,use_chain_of_thought=True,model=tiiuae_falcon-40b',\n 'math:subject=prealgebra,level=1,use_official_examples=False,use_chain_of_thought=True,model=tiiuae_falcon-7b',\n 'math:subject=prealgebra,level=1,use_official_examples=False,use_chain_of_thought=True,model=writer_palmyra-x-v2',\n 'math:subject=prealgebra,level=1,use_official_examples=False,use_chain_of_thought=True,model=writer_palmyra-x-v3',\n 'math:subject=precalculus,level=1,use_official_examples=False,use_chain_of_thought=True,model=01-ai_yi-34b',\n 'math:subject=precalculus,level=1,use_official_examples=False,use_chain_of_thought=True,model=01-ai_yi-6b',\n 'math:subject=precalculus,level=1,use_official_examples=False,use_chain_of_thought=True,model=AlephAlpha_luminous-base',\n 'math:subject=precalculus,level=1,use_official_examples=False,use_chain_of_thought=True,model=AlephAlpha_luminous-extended',\n 'math:subject=precalculus,level=1,use_official_examples=False,use_chain_of_thought=True,model=AlephAlpha_luminous-supreme',\n 'math:subject=precalculus,level=1,use_official_examples=False,use_chain_of_thought=True,model=ai21_j2-grande',\n 'math:subject=precalculus,level=1,use_official_examples=False,use_chain_of_thought=True,model=ai21_j2-jumbo',\n 'math:subject=precalculus,level=1,use_official_examples=False,use_chain_of_thought=True,model=anthropic_claude-2.0',\n 'math:subject=precalculus,level=1,use_official_examples=False,use_chain_of_thought=True,model=anthropic_claude-2.1',\n 'math:subject=precalculus,level=1,use_official_examples=False,use_chain_of_thought=True,model=anthropic_claude-instant-1.2',\n 'math:subject=precalculus,level=1,use_official_examples=False,use_chain_of_thought=True,model=anthropic_claude-v1.3',\n 'math:subject=precalculus,level=1,use_official_examples=False,use_chain_of_thought=True,model=cohere_command',\n 'math:subject=precalculus,level=1,use_official_examples=False,use_chain_of_thought=True,model=cohere_command-light',\n 'math:subject=precalculus,level=1,use_official_examples=False,use_chain_of_thought=True,model=google_text-bison@001',\n 'math:subject=precalculus,level=1,use_official_examples=False,use_chain_of_thought=True,model=google_text-unicorn@001',\n 'math:subject=precalculus,level=1,use_official_examples=False,use_chain_of_thought=True,model=meta_llama-2-13b',\n 'math:subject=precalculus,level=1,use_official_examples=False,use_chain_of_thought=True,model=meta_llama-2-70b',\n 'math:subject=precalculus,level=1,use_official_examples=False,use_chain_of_thought=True,model=meta_llama-2-7b',\n 'math:subject=precalculus,level=1,use_official_examples=False,use_chain_of_thought=True,model=meta_llama-65b',\n 'math:subject=precalculus,level=1,use_official_examples=False,use_chain_of_thought=True,model=mistralai_mistral-7b-v0.1',\n 'math:subject=precalculus,level=1,use_official_examples=False,use_chain_of_thought=True,model=mistralai_mixtral-8x7b-32kseqlen',\n 'math:subject=precalculus,level=1,use_official_examples=False,use_chain_of_thought=True,model=openai_gpt-3.5-turbo-0613',\n 'math:subject=precalculus,level=1,use_official_examples=False,use_chain_of_thought=True,model=openai_gpt-4-0613',\n 'math:subject=precalculus,level=1,use_official_examples=False,use_chain_of_thought=True,model=openai_gpt-4-1106-preview',\n 'math:subject=precalculus,level=1,use_official_examples=False,use_chain_of_thought=True,model=openai_text-davinci-002',\n 'math:subject=precalculus,level=1,use_official_examples=False,use_chain_of_thought=True,model=openai_text-davinci-003',\n 'math:subject=precalculus,level=1,use_official_examples=False,use_chain_of_thought=True,model=tiiuae_falcon-40b',\n 'math:subject=precalculus,level=1,use_official_examples=False,use_chain_of_thought=True,model=tiiuae_falcon-7b',\n 'math:subject=precalculus,level=1,use_official_examples=False,use_chain_of_thought=True,model=writer_palmyra-x-v2',\n 'math:subject=precalculus,level=1,use_official_examples=False,use_chain_of_thought=True,model=writer_palmyra-x-v3',\n 'med_qa:model=01-ai_yi-34b',\n 'med_qa:model=01-ai_yi-6b',\n 'med_qa:model=AlephAlpha_luminous-base',\n 'med_qa:model=AlephAlpha_luminous-extended',\n 'med_qa:model=AlephAlpha_luminous-supreme',\n 'med_qa:model=ai21_j2-grande',\n 'med_qa:model=ai21_j2-jumbo',\n 'med_qa:model=anthropic_claude-2.0',\n 'med_qa:model=anthropic_claude-2.1',\n 'med_qa:model=anthropic_claude-instant-1.2',\n 'med_qa:model=anthropic_claude-v1.3',\n 'med_qa:model=cohere_command',\n 'med_qa:model=cohere_command-light',\n 'med_qa:model=google_text-bison@001',\n 'med_qa:model=google_text-unicorn@001',\n 'med_qa:model=meta_llama-2-13b',\n 'med_qa:model=meta_llama-2-70b',\n 'med_qa:model=meta_llama-2-7b',\n 'med_qa:model=meta_llama-65b',\n 'med_qa:model=mistralai_mistral-7b-v0.1',\n 'med_qa:model=mistralai_mixtral-8x7b-32kseqlen',\n 'med_qa:model=openai_gpt-3.5-turbo-0613',\n 'med_qa:model=openai_gpt-4-0613',\n 'med_qa:model=openai_gpt-4-1106-preview',\n 'med_qa:model=openai_text-davinci-002',\n 'med_qa:model=openai_text-davinci-003',\n 'med_qa:model=tiiuae_falcon-40b',\n 'med_qa:model=tiiuae_falcon-7b',\n 'med_qa:model=writer_palmyra-x-v2',\n 'med_qa:model=writer_palmyra-x-v3',\n 'mmlu:subject=abstract_algebra,method=multiple_choice_joint,model=01-ai_yi-34b',\n 'mmlu:subject=abstract_algebra,method=multiple_choice_joint,model=01-ai_yi-6b',\n 'mmlu:subject=abstract_algebra,method=multiple_choice_joint,model=AlephAlpha_luminous-base',\n 'mmlu:subject=abstract_algebra,method=multiple_choice_joint,model=AlephAlpha_luminous-extended',\n 'mmlu:subject=abstract_algebra,method=multiple_choice_joint,model=AlephAlpha_luminous-supreme',\n 'mmlu:subject=abstract_algebra,method=multiple_choice_joint,model=ai21_j2-grande',\n 'mmlu:subject=abstract_algebra,method=multiple_choice_joint,model=ai21_j2-jumbo',\n 'mmlu:subject=abstract_algebra,method=multiple_choice_joint,model=anthropic_claude-2.0',\n 'mmlu:subject=abstract_algebra,method=multiple_choice_joint,model=anthropic_claude-2.1',\n 'mmlu:subject=abstract_algebra,method=multiple_choice_joint,model=anthropic_claude-instant-1.2',\n 'mmlu:subject=abstract_algebra,method=multiple_choice_joint,model=anthropic_claude-v1.3',\n 'mmlu:subject=abstract_algebra,method=multiple_choice_joint,model=cohere_command',\n 'mmlu:subject=abstract_algebra,method=multiple_choice_joint,model=cohere_command-light',\n 'mmlu:subject=abstract_algebra,method=multiple_choice_joint,model=google_text-bison@001',\n 'mmlu:subject=abstract_algebra,method=multiple_choice_joint,model=google_text-unicorn@001',\n 'mmlu:subject=abstract_algebra,method=multiple_choice_joint,model=meta_llama-2-13b',\n 'mmlu:subject=abstract_algebra,method=multiple_choice_joint,model=meta_llama-2-70b',\n 'mmlu:subject=abstract_algebra,method=multiple_choice_joint,model=meta_llama-2-7b',\n 'mmlu:subject=abstract_algebra,method=multiple_choice_joint,model=meta_llama-65b',\n 'mmlu:subject=abstract_algebra,method=multiple_choice_joint,model=mistralai_mistral-7b-v0.1',\n 'mmlu:subject=abstract_algebra,method=multiple_choice_joint,model=mistralai_mixtral-8x7b-32kseqlen',\n 'mmlu:subject=abstract_algebra,method=multiple_choice_joint,model=openai_gpt-3.5-turbo-0613',\n 'mmlu:subject=abstract_algebra,method=multiple_choice_joint,model=openai_gpt-4-0613',\n 'mmlu:subject=abstract_algebra,method=multiple_choice_joint,model=openai_gpt-4-1106-preview',\n 'mmlu:subject=abstract_algebra,method=multiple_choice_joint,model=openai_text-davinci-002',\n 'mmlu:subject=abstract_algebra,method=multiple_choice_joint,model=openai_text-davinci-003',\n 'mmlu:subject=abstract_algebra,method=multiple_choice_joint,model=tiiuae_falcon-40b',\n 'mmlu:subject=abstract_algebra,method=multiple_choice_joint,model=tiiuae_falcon-7b',\n 'mmlu:subject=abstract_algebra,method=multiple_choice_joint,model=writer_palmyra-x-v2',\n 'mmlu:subject=abstract_algebra,method=multiple_choice_joint,model=writer_palmyra-x-v3',\n 'mmlu:subject=college_chemistry,method=multiple_choice_joint,model=01-ai_yi-34b',\n 'mmlu:subject=college_chemistry,method=multiple_choice_joint,model=01-ai_yi-6b',\n 'mmlu:subject=college_chemistry,method=multiple_choice_joint,model=AlephAlpha_luminous-base',\n 'mmlu:subject=college_chemistry,method=multiple_choice_joint,model=AlephAlpha_luminous-extended',\n 'mmlu:subject=college_chemistry,method=multiple_choice_joint,model=AlephAlpha_luminous-supreme',\n 'mmlu:subject=college_chemistry,method=multiple_choice_joint,model=ai21_j2-grande',\n 'mmlu:subject=college_chemistry,method=multiple_choice_joint,model=ai21_j2-jumbo',\n 'mmlu:subject=college_chemistry,method=multiple_choice_joint,model=anthropic_claude-2.0',\n 'mmlu:subject=college_chemistry,method=multiple_choice_joint,model=anthropic_claude-2.1',\n 'mmlu:subject=college_chemistry,method=multiple_choice_joint,model=anthropic_claude-instant-1.2',\n 'mmlu:subject=college_chemistry,method=multiple_choice_joint,model=anthropic_claude-v1.3',\n 'mmlu:subject=college_chemistry,method=multiple_choice_joint,model=cohere_command',\n 'mmlu:subject=college_chemistry,method=multiple_choice_joint,model=cohere_command-light',\n 'mmlu:subject=college_chemistry,method=multiple_choice_joint,model=google_text-bison@001',\n 'mmlu:subject=college_chemistry,method=multiple_choice_joint,model=google_text-unicorn@001',\n 'mmlu:subject=college_chemistry,method=multiple_choice_joint,model=meta_llama-2-13b',\n 'mmlu:subject=college_chemistry,method=multiple_choice_joint,model=meta_llama-2-70b',\n 'mmlu:subject=college_chemistry,method=multiple_choice_joint,model=meta_llama-2-7b',\n 'mmlu:subject=college_chemistry,method=multiple_choice_joint,model=meta_llama-65b',\n 'mmlu:subject=college_chemistry,method=multiple_choice_joint,model=mistralai_mistral-7b-v0.1',\n 'mmlu:subject=college_chemistry,method=multiple_choice_joint,model=mistralai_mixtral-8x7b-32kseqlen',\n 'mmlu:subject=college_chemistry,method=multiple_choice_joint,model=openai_gpt-3.5-turbo-0613',\n 'mmlu:subject=college_chemistry,method=multiple_choice_joint,model=openai_gpt-4-0613',\n 'mmlu:subject=college_chemistry,method=multiple_choice_joint,model=openai_gpt-4-1106-preview',\n 'mmlu:subject=college_chemistry,method=multiple_choice_joint,model=openai_text-davinci-002',\n 'mmlu:subject=college_chemistry,method=multiple_choice_joint,model=openai_text-davinci-003',\n 'mmlu:subject=college_chemistry,method=multiple_choice_joint,model=tiiuae_falcon-40b',\n 'mmlu:subject=college_chemistry,method=multiple_choice_joint,model=tiiuae_falcon-7b',\n 'mmlu:subject=college_chemistry,method=multiple_choice_joint,model=writer_palmyra-x-v2',\n 'mmlu:subject=college_chemistry,method=multiple_choice_joint,model=writer_palmyra-x-v3',\n 'mmlu:subject=computer_security,method=multiple_choice_joint,model=01-ai_yi-34b',\n 'mmlu:subject=computer_security,method=multiple_choice_joint,model=01-ai_yi-6b',\n 'mmlu:subject=computer_security,method=multiple_choice_joint,model=AlephAlpha_luminous-base',\n 'mmlu:subject=computer_security,method=multiple_choice_joint,model=AlephAlpha_luminous-extended',\n 'mmlu:subject=computer_security,method=multiple_choice_joint,model=AlephAlpha_luminous-supreme',\n 'mmlu:subject=computer_security,method=multiple_choice_joint,model=ai21_j2-grande',\n 'mmlu:subject=computer_security,method=multiple_choice_joint,model=ai21_j2-jumbo',\n 'mmlu:subject=computer_security,method=multiple_choice_joint,model=anthropic_claude-2.0',\n 'mmlu:subject=computer_security,method=multiple_choice_joint,model=anthropic_claude-2.1',\n 'mmlu:subject=computer_security,method=multiple_choice_joint,model=anthropic_claude-instant-1.2',\n 'mmlu:subject=computer_security,method=multiple_choice_joint,model=anthropic_claude-v1.3',\n 'mmlu:subject=computer_security,method=multiple_choice_joint,model=cohere_command',\n 'mmlu:subject=computer_security,method=multiple_choice_joint,model=cohere_command-light',\n 'mmlu:subject=computer_security,method=multiple_choice_joint,model=google_text-bison@001',\n 'mmlu:subject=computer_security,method=multiple_choice_joint,model=google_text-unicorn@001',\n 'mmlu:subject=computer_security,method=multiple_choice_joint,model=meta_llama-2-13b',\n 'mmlu:subject=computer_security,method=multiple_choice_joint,model=meta_llama-2-70b',\n 'mmlu:subject=computer_security,method=multiple_choice_joint,model=meta_llama-2-7b',\n 'mmlu:subject=computer_security,method=multiple_choice_joint,model=meta_llama-65b',\n 'mmlu:subject=computer_security,method=multiple_choice_joint,model=mistralai_mistral-7b-v0.1',\n 'mmlu:subject=computer_security,method=multiple_choice_joint,model=mistralai_mixtral-8x7b-32kseqlen',\n 'mmlu:subject=computer_security,method=multiple_choice_joint,model=openai_gpt-3.5-turbo-0613',\n 'mmlu:subject=computer_security,method=multiple_choice_joint,model=openai_gpt-4-0613',\n 'mmlu:subject=computer_security,method=multiple_choice_joint,model=openai_gpt-4-1106-preview',\n 'mmlu:subject=computer_security,method=multiple_choice_joint,model=openai_text-davinci-002',\n 'mmlu:subject=computer_security,method=multiple_choice_joint,model=openai_text-davinci-003',\n 'mmlu:subject=computer_security,method=multiple_choice_joint,model=tiiuae_falcon-40b',\n 'mmlu:subject=computer_security,method=multiple_choice_joint,model=tiiuae_falcon-7b',\n 'mmlu:subject=computer_security,method=multiple_choice_joint,model=writer_palmyra-x-v2',\n 'mmlu:subject=computer_security,method=multiple_choice_joint,model=writer_palmyra-x-v3',\n 'mmlu:subject=econometrics,method=multiple_choice_joint,model=01-ai_yi-34b',\n 'mmlu:subject=econometrics,method=multiple_choice_joint,model=01-ai_yi-6b',\n 'mmlu:subject=econometrics,method=multiple_choice_joint,model=AlephAlpha_luminous-base',\n 'mmlu:subject=econometrics,method=multiple_choice_joint,model=AlephAlpha_luminous-extended',\n 'mmlu:subject=econometrics,method=multiple_choice_joint,model=AlephAlpha_luminous-supreme',\n 'mmlu:subject=econometrics,method=multiple_choice_joint,model=ai21_j2-grande',\n 'mmlu:subject=econometrics,method=multiple_choice_joint,model=ai21_j2-jumbo',\n 'mmlu:subject=econometrics,method=multiple_choice_joint,model=anthropic_claude-2.0',\n 'mmlu:subject=econometrics,method=multiple_choice_joint,model=anthropic_claude-2.1',\n 'mmlu:subject=econometrics,method=multiple_choice_joint,model=anthropic_claude-instant-1.2',\n 'mmlu:subject=econometrics,method=multiple_choice_joint,model=anthropic_claude-v1.3',\n 'mmlu:subject=econometrics,method=multiple_choice_joint,model=cohere_command',\n 'mmlu:subject=econometrics,method=multiple_choice_joint,model=cohere_command-light',\n 'mmlu:subject=econometrics,method=multiple_choice_joint,model=google_text-bison@001',\n 'mmlu:subject=econometrics,method=multiple_choice_joint,model=google_text-unicorn@001',\n 'mmlu:subject=econometrics,method=multiple_choice_joint,model=meta_llama-2-13b',\n 'mmlu:subject=econometrics,method=multiple_choice_joint,model=meta_llama-2-70b',\n 'mmlu:subject=econometrics,method=multiple_choice_joint,model=meta_llama-2-7b',\n 'mmlu:subject=econometrics,method=multiple_choice_joint,model=meta_llama-65b',\n 'mmlu:subject=econometrics,method=multiple_choice_joint,model=mistralai_mistral-7b-v0.1',\n 'mmlu:subject=econometrics,method=multiple_choice_joint,model=mistralai_mixtral-8x7b-32kseqlen',\n 'mmlu:subject=econometrics,method=multiple_choice_joint,model=openai_gpt-3.5-turbo-0613',\n 'mmlu:subject=econometrics,method=multiple_choice_joint,model=openai_gpt-4-0613',\n 'mmlu:subject=econometrics,method=multiple_choice_joint,model=openai_gpt-4-1106-preview',\n 'mmlu:subject=econometrics,method=multiple_choice_joint,model=openai_text-davinci-002',\n 'mmlu:subject=econometrics,method=multiple_choice_joint,model=openai_text-davinci-003',\n 'mmlu:subject=econometrics,method=multiple_choice_joint,model=tiiuae_falcon-40b',\n 'mmlu:subject=econometrics,method=multiple_choice_joint,model=tiiuae_falcon-7b',\n 'mmlu:subject=econometrics,method=multiple_choice_joint,model=writer_palmyra-x-v2',\n 'mmlu:subject=econometrics,method=multiple_choice_joint,model=writer_palmyra-x-v3',\n 'mmlu:subject=us_foreign_policy,method=multiple_choice_joint,model=01-ai_yi-34b',\n 'mmlu:subject=us_foreign_policy,method=multiple_choice_joint,model=01-ai_yi-6b',\n 'mmlu:subject=us_foreign_policy,method=multiple_choice_joint,model=AlephAlpha_luminous-base',\n 'mmlu:subject=us_foreign_policy,method=multiple_choice_joint,model=AlephAlpha_luminous-extended',\n 'mmlu:subject=us_foreign_policy,method=multiple_choice_joint,model=AlephAlpha_luminous-supreme',\n 'mmlu:subject=us_foreign_policy,method=multiple_choice_joint,model=ai21_j2-grande',\n 'mmlu:subject=us_foreign_policy,method=multiple_choice_joint,model=ai21_j2-jumbo',\n 'mmlu:subject=us_foreign_policy,method=multiple_choice_joint,model=anthropic_claude-2.0',\n 'mmlu:subject=us_foreign_policy,method=multiple_choice_joint,model=anthropic_claude-2.1',\n 'mmlu:subject=us_foreign_policy,method=multiple_choice_joint,model=anthropic_claude-instant-1.2',\n 'mmlu:subject=us_foreign_policy,method=multiple_choice_joint,model=anthropic_claude-v1.3',\n 'mmlu:subject=us_foreign_policy,method=multiple_choice_joint,model=cohere_command',\n 'mmlu:subject=us_foreign_policy,method=multiple_choice_joint,model=cohere_command-light',\n 'mmlu:subject=us_foreign_policy,method=multiple_choice_joint,model=google_text-bison@001',\n 'mmlu:subject=us_foreign_policy,method=multiple_choice_joint,model=google_text-unicorn@001',\n 'mmlu:subject=us_foreign_policy,method=multiple_choice_joint,model=meta_llama-2-13b',\n 'mmlu:subject=us_foreign_policy,method=multiple_choice_joint,model=meta_llama-2-70b',\n 'mmlu:subject=us_foreign_policy,method=multiple_choice_joint,model=meta_llama-2-7b',\n 'mmlu:subject=us_foreign_policy,method=multiple_choice_joint,model=meta_llama-65b',\n 'mmlu:subject=us_foreign_policy,method=multiple_choice_joint,model=mistralai_mistral-7b-v0.1',\n 'mmlu:subject=us_foreign_policy,method=multiple_choice_joint,model=mistralai_mixtral-8x7b-32kseqlen',\n 'mmlu:subject=us_foreign_policy,method=multiple_choice_joint,model=openai_gpt-3.5-turbo-0613',\n 'mmlu:subject=us_foreign_policy,method=multiple_choice_joint,model=openai_gpt-4-0613',\n 'mmlu:subject=us_foreign_policy,method=multiple_choice_joint,model=openai_gpt-4-1106-preview',\n 'mmlu:subject=us_foreign_policy,method=multiple_choice_joint,model=openai_text-davinci-002',\n 'mmlu:subject=us_foreign_policy,method=multiple_choice_joint,model=openai_text-davinci-003',\n 'mmlu:subject=us_foreign_policy,method=multiple_choice_joint,model=tiiuae_falcon-40b',\n 'mmlu:subject=us_foreign_policy,method=multiple_choice_joint,model=tiiuae_falcon-7b',\n 'mmlu:subject=us_foreign_policy,method=multiple_choice_joint,model=writer_palmyra-x-v2',\n 'mmlu:subject=us_foreign_policy,method=multiple_choice_joint,model=writer_palmyra-x-v3',\n 'narrative_qa:model=01-ai_yi-34b',\n 'narrative_qa:model=01-ai_yi-6b',\n 'narrative_qa:model=AlephAlpha_luminous-base',\n 'narrative_qa:model=AlephAlpha_luminous-extended',\n 'narrative_qa:model=AlephAlpha_luminous-supreme',\n 'narrative_qa:model=ai21_j2-grande',\n 'narrative_qa:model=ai21_j2-jumbo',\n 'narrative_qa:model=anthropic_claude-2.0',\n 'narrative_qa:model=anthropic_claude-2.1',\n 'narrative_qa:model=anthropic_claude-instant-1.2',\n 'narrative_qa:model=anthropic_claude-v1.3',\n 'narrative_qa:model=cohere_command',\n 'narrative_qa:model=cohere_command-light',\n 'narrative_qa:model=google_text-bison@001',\n 'narrative_qa:model=google_text-unicorn@001',\n 'narrative_qa:model=meta_llama-2-13b',\n 'narrative_qa:model=meta_llama-2-70b',\n 'narrative_qa:model=meta_llama-2-7b',\n 'narrative_qa:model=meta_llama-65b',\n 'narrative_qa:model=mistralai_mistral-7b-v0.1',\n 'narrative_qa:model=mistralai_mixtral-8x7b-32kseqlen',\n 'narrative_qa:model=openai_gpt-3.5-turbo-0613',\n 'narrative_qa:model=openai_gpt-4-0613',\n 'narrative_qa:model=openai_gpt-4-1106-preview',\n 'narrative_qa:model=openai_text-davinci-002',\n 'narrative_qa:model=openai_text-davinci-003',\n 'narrative_qa:model=tiiuae_falcon-40b',\n 'narrative_qa:model=tiiuae_falcon-7b',\n 'narrative_qa:model=writer_palmyra-x-v2',\n 'narrative_qa:model=writer_palmyra-x-v3',\n 'natural_qa:mode=closedbook,model=01-ai_yi-34b',\n 'natural_qa:mode=closedbook,model=01-ai_yi-6b',\n 'natural_qa:mode=closedbook,model=AlephAlpha_luminous-base',\n 'natural_qa:mode=closedbook,model=AlephAlpha_luminous-extended',\n 'natural_qa:mode=closedbook,model=AlephAlpha_luminous-supreme',\n 'natural_qa:mode=closedbook,model=ai21_j2-grande',\n 'natural_qa:mode=closedbook,model=ai21_j2-jumbo',\n 'natural_qa:mode=closedbook,model=anthropic_claude-2.0',\n 'natural_qa:mode=closedbook,model=anthropic_claude-2.1',\n 'natural_qa:mode=closedbook,model=anthropic_claude-instant-1.2',\n 'natural_qa:mode=closedbook,model=anthropic_claude-v1.3',\n 'natural_qa:mode=closedbook,model=cohere_command',\n 'natural_qa:mode=closedbook,model=cohere_command-light',\n 'natural_qa:mode=closedbook,model=google_text-bison@001',\n 'natural_qa:mode=closedbook,model=google_text-unicorn@001',\n 'natural_qa:mode=closedbook,model=meta_llama-2-13b',\n 'natural_qa:mode=closedbook,model=meta_llama-2-70b',\n 'natural_qa:mode=closedbook,model=meta_llama-2-7b',\n 'natural_qa:mode=closedbook,model=meta_llama-65b',\n 'natural_qa:mode=closedbook,model=mistralai_mistral-7b-v0.1',\n 'natural_qa:mode=closedbook,model=mistralai_mixtral-8x7b-32kseqlen',\n 'natural_qa:mode=closedbook,model=openai_gpt-3.5-turbo-0613',\n 'natural_qa:mode=closedbook,model=openai_gpt-4-0613',\n 'natural_qa:mode=closedbook,model=openai_gpt-4-1106-preview',\n 'natural_qa:mode=closedbook,model=openai_text-davinci-002',\n 'natural_qa:mode=closedbook,model=openai_text-davinci-003',\n 'natural_qa:mode=closedbook,model=tiiuae_falcon-40b',\n 'natural_qa:mode=closedbook,model=tiiuae_falcon-7b',\n 'natural_qa:mode=closedbook,model=writer_palmyra-x-v2',\n 'natural_qa:mode=closedbook,model=writer_palmyra-x-v3',\n 'natural_qa:mode=openbook_longans,model=01-ai_yi-34b',\n 'natural_qa:mode=openbook_longans,model=01-ai_yi-6b',\n 'natural_qa:mode=openbook_longans,model=AlephAlpha_luminous-base',\n 'natural_qa:mode=openbook_longans,model=AlephAlpha_luminous-extended',\n 'natural_qa:mode=openbook_longans,model=AlephAlpha_luminous-supreme',\n 'natural_qa:mode=openbook_longans,model=ai21_j2-grande',\n 'natural_qa:mode=openbook_longans,model=ai21_j2-jumbo',\n 'natural_qa:mode=openbook_longans,model=anthropic_claude-2.0',\n 'natural_qa:mode=openbook_longans,model=anthropic_claude-2.1',\n 'natural_qa:mode=openbook_longans,model=anthropic_claude-instant-1.2',\n 'natural_qa:mode=openbook_longans,model=anthropic_claude-v1.3',\n 'natural_qa:mode=openbook_longans,model=cohere_command',\n 'natural_qa:mode=openbook_longans,model=cohere_command-light',\n 'natural_qa:mode=openbook_longans,model=google_text-bison@001',\n 'natural_qa:mode=openbook_longans,model=google_text-unicorn@001',\n 'natural_qa:mode=openbook_longans,model=meta_llama-2-13b',\n 'natural_qa:mode=openbook_longans,model=meta_llama-2-70b',\n 'natural_qa:mode=openbook_longans,model=meta_llama-2-7b',\n 'natural_qa:mode=openbook_longans,model=meta_llama-65b',\n 'natural_qa:mode=openbook_longans,model=mistralai_mistral-7b-v0.1',\n 'natural_qa:mode=openbook_longans,model=mistralai_mixtral-8x7b-32kseqlen',\n 'natural_qa:mode=openbook_longans,model=openai_gpt-3.5-turbo-0613',\n 'natural_qa:mode=openbook_longans,model=openai_gpt-4-0613',\n 'natural_qa:mode=openbook_longans,model=openai_gpt-4-1106-preview',\n 'natural_qa:mode=openbook_longans,model=openai_text-davinci-002',\n 'natural_qa:mode=openbook_longans,model=openai_text-davinci-003',\n 'natural_qa:mode=openbook_longans,model=tiiuae_falcon-40b',\n 'natural_qa:mode=openbook_longans,model=tiiuae_falcon-7b',\n 'natural_qa:mode=openbook_longans,model=writer_palmyra-x-v2',\n 'natural_qa:mode=openbook_longans,model=writer_palmyra-x-v3',\n 'wmt_14:language_pair=cs-en,model=01-ai_yi-34b',\n 'wmt_14:language_pair=cs-en,model=01-ai_yi-6b',\n 'wmt_14:language_pair=cs-en,model=AlephAlpha_luminous-base',\n 'wmt_14:language_pair=cs-en,model=AlephAlpha_luminous-extended',\n 'wmt_14:language_pair=cs-en,model=AlephAlpha_luminous-supreme',\n 'wmt_14:language_pair=cs-en,model=ai21_j2-grande',\n 'wmt_14:language_pair=cs-en,model=ai21_j2-jumbo',\n 'wmt_14:language_pair=cs-en,model=anthropic_claude-2.0',\n 'wmt_14:language_pair=cs-en,model=anthropic_claude-2.1',\n 'wmt_14:language_pair=cs-en,model=anthropic_claude-instant-1.2',\n 'wmt_14:language_pair=cs-en,model=anthropic_claude-v1.3',\n 'wmt_14:language_pair=cs-en,model=cohere_command',\n 'wmt_14:language_pair=cs-en,model=cohere_command-light',\n 'wmt_14:language_pair=cs-en,model=google_text-bison@001',\n 'wmt_14:language_pair=cs-en,model=google_text-unicorn@001',\n 'wmt_14:language_pair=cs-en,model=meta_llama-2-13b',\n 'wmt_14:language_pair=cs-en,model=meta_llama-2-70b',\n 'wmt_14:language_pair=cs-en,model=meta_llama-2-7b',\n 'wmt_14:language_pair=cs-en,model=meta_llama-65b',\n 'wmt_14:language_pair=cs-en,model=mistralai_mistral-7b-v0.1',\n 'wmt_14:language_pair=cs-en,model=mistralai_mixtral-8x7b-32kseqlen',\n 'wmt_14:language_pair=cs-en,model=openai_gpt-3.5-turbo-0613',\n 'wmt_14:language_pair=cs-en,model=openai_gpt-4-0613',\n 'wmt_14:language_pair=cs-en,model=openai_gpt-4-1106-preview',\n 'wmt_14:language_pair=cs-en,model=openai_text-davinci-002',\n 'wmt_14:language_pair=cs-en,model=openai_text-davinci-003',\n 'wmt_14:language_pair=cs-en,model=tiiuae_falcon-40b',\n 'wmt_14:language_pair=cs-en,model=tiiuae_falcon-7b',\n 'wmt_14:language_pair=cs-en,model=writer_palmyra-x-v2',\n 'wmt_14:language_pair=cs-en,model=writer_palmyra-x-v3',\n 'wmt_14:language_pair=de-en,model=01-ai_yi-34b',\n 'wmt_14:language_pair=de-en,model=01-ai_yi-6b',\n 'wmt_14:language_pair=de-en,model=AlephAlpha_luminous-base',\n 'wmt_14:language_pair=de-en,model=AlephAlpha_luminous-extended',\n 'wmt_14:language_pair=de-en,model=AlephAlpha_luminous-supreme',\n 'wmt_14:language_pair=de-en,model=ai21_j2-grande',\n 'wmt_14:language_pair=de-en,model=ai21_j2-jumbo',\n 'wmt_14:language_pair=de-en,model=anthropic_claude-2.0',\n 'wmt_14:language_pair=de-en,model=anthropic_claude-2.1',\n 'wmt_14:language_pair=de-en,model=anthropic_claude-instant-1.2',\n 'wmt_14:language_pair=de-en,model=anthropic_claude-v1.3',\n 'wmt_14:language_pair=de-en,model=cohere_command',\n 'wmt_14:language_pair=de-en,model=cohere_command-light',\n 'wmt_14:language_pair=de-en,model=google_text-bison@001',\n 'wmt_14:language_pair=de-en,model=google_text-unicorn@001',\n 'wmt_14:language_pair=de-en,model=meta_llama-2-13b',\n 'wmt_14:language_pair=de-en,model=meta_llama-2-70b',\n 'wmt_14:language_pair=de-en,model=meta_llama-2-7b',\n 'wmt_14:language_pair=de-en,model=meta_llama-65b',\n 'wmt_14:language_pair=de-en,model=mistralai_mistral-7b-v0.1',\n 'wmt_14:language_pair=de-en,model=mistralai_mixtral-8x7b-32kseqlen',\n 'wmt_14:language_pair=de-en,model=openai_gpt-3.5-turbo-0613',\n 'wmt_14:language_pair=de-en,model=openai_gpt-4-0613',\n 'wmt_14:language_pair=de-en,model=openai_gpt-4-1106-preview',\n 'wmt_14:language_pair=de-en,model=openai_text-davinci-002',\n 'wmt_14:language_pair=de-en,model=openai_text-davinci-003',\n 'wmt_14:language_pair=de-en,model=tiiuae_falcon-40b',\n 'wmt_14:language_pair=de-en,model=tiiuae_falcon-7b',\n 'wmt_14:language_pair=de-en,model=writer_palmyra-x-v2',\n 'wmt_14:language_pair=de-en,model=writer_palmyra-x-v3',\n 'wmt_14:language_pair=fr-en,model=01-ai_yi-34b',\n 'wmt_14:language_pair=fr-en,model=01-ai_yi-6b',\n 'wmt_14:language_pair=fr-en,model=AlephAlpha_luminous-base',\n 'wmt_14:language_pair=fr-en,model=AlephAlpha_luminous-extended',\n 'wmt_14:language_pair=fr-en,model=AlephAlpha_luminous-supreme',\n 'wmt_14:language_pair=fr-en,model=ai21_j2-grande',\n 'wmt_14:language_pair=fr-en,model=ai21_j2-jumbo',\n 'wmt_14:language_pair=fr-en,model=anthropic_claude-2.0',\n 'wmt_14:language_pair=fr-en,model=anthropic_claude-2.1',\n 'wmt_14:language_pair=fr-en,model=anthropic_claude-instant-1.2',\n 'wmt_14:language_pair=fr-en,model=anthropic_claude-v1.3',\n 'wmt_14:language_pair=fr-en,model=cohere_command',\n 'wmt_14:language_pair=fr-en,model=cohere_command-light',\n 'wmt_14:language_pair=fr-en,model=google_text-bison@001',\n 'wmt_14:language_pair=fr-en,model=google_text-unicorn@001',\n 'wmt_14:language_pair=fr-en,model=meta_llama-2-13b',\n 'wmt_14:language_pair=fr-en,model=meta_llama-2-70b',\n 'wmt_14:language_pair=fr-en,model=meta_llama-2-7b',\n 'wmt_14:language_pair=fr-en,model=meta_llama-65b',\n 'wmt_14:language_pair=fr-en,model=mistralai_mistral-7b-v0.1',\n 'wmt_14:language_pair=fr-en,model=mistralai_mixtral-8x7b-32kseqlen',\n 'wmt_14:language_pair=fr-en,model=openai_gpt-3.5-turbo-0613',\n 'wmt_14:language_pair=fr-en,model=openai_gpt-4-0613',\n 'wmt_14:language_pair=fr-en,model=openai_gpt-4-1106-preview',\n 'wmt_14:language_pair=fr-en,model=openai_text-davinci-002',\n 'wmt_14:language_pair=fr-en,model=openai_text-davinci-003',\n 'wmt_14:language_pair=fr-en,model=tiiuae_falcon-40b',\n 'wmt_14:language_pair=fr-en,model=tiiuae_falcon-7b',\n 'wmt_14:language_pair=fr-en,model=writer_palmyra-x-v2',\n 'wmt_14:language_pair=fr-en,model=writer_palmyra-x-v3',\n 'wmt_14:language_pair=hi-en,model=01-ai_yi-34b',\n 'wmt_14:language_pair=hi-en,model=01-ai_yi-6b',\n 'wmt_14:language_pair=hi-en,model=AlephAlpha_luminous-base',\n 'wmt_14:language_pair=hi-en,model=AlephAlpha_luminous-extended',\n 'wmt_14:language_pair=hi-en,model=AlephAlpha_luminous-supreme',\n 'wmt_14:language_pair=hi-en,model=ai21_j2-grande',\n 'wmt_14:language_pair=hi-en,model=ai21_j2-jumbo',\n 'wmt_14:language_pair=hi-en,model=anthropic_claude-2.0',\n 'wmt_14:language_pair=hi-en,model=anthropic_claude-2.1',\n 'wmt_14:language_pair=hi-en,model=anthropic_claude-instant-1.2',\n 'wmt_14:language_pair=hi-en,model=anthropic_claude-v1.3',\n 'wmt_14:language_pair=hi-en,model=cohere_command',\n 'wmt_14:language_pair=hi-en,model=cohere_command-light',\n 'wmt_14:language_pair=hi-en,model=google_text-bison@001',\n 'wmt_14:language_pair=hi-en,model=google_text-unicorn@001',\n 'wmt_14:language_pair=hi-en,model=meta_llama-2-13b',\n 'wmt_14:language_pair=hi-en,model=meta_llama-2-70b',\n 'wmt_14:language_pair=hi-en,model=meta_llama-2-7b',\n 'wmt_14:language_pair=hi-en,model=meta_llama-65b',\n 'wmt_14:language_pair=hi-en,model=mistralai_mistral-7b-v0.1',\n 'wmt_14:language_pair=hi-en,model=mistralai_mixtral-8x7b-32kseqlen',\n 'wmt_14:language_pair=hi-en,model=openai_gpt-3.5-turbo-0613',\n 'wmt_14:language_pair=hi-en,model=openai_gpt-4-0613',\n 'wmt_14:language_pair=hi-en,model=openai_gpt-4-1106-preview',\n 'wmt_14:language_pair=hi-en,model=openai_text-davinci-002',\n 'wmt_14:language_pair=hi-en,model=openai_text-davinci-003',\n 'wmt_14:language_pair=hi-en,model=tiiuae_falcon-40b',\n 'wmt_14:language_pair=hi-en,model=tiiuae_falcon-7b',\n 'wmt_14:language_pair=hi-en,model=writer_palmyra-x-v2',\n 'wmt_14:language_pair=hi-en,model=writer_palmyra-x-v3',\n 'wmt_14:language_pair=ru-en,model=01-ai_yi-34b',\n 'wmt_14:language_pair=ru-en,model=01-ai_yi-6b',\n 'wmt_14:language_pair=ru-en,model=AlephAlpha_luminous-base',\n 'wmt_14:language_pair=ru-en,model=AlephAlpha_luminous-extended',\n 'wmt_14:language_pair=ru-en,model=AlephAlpha_luminous-supreme',\n 'wmt_14:language_pair=ru-en,model=ai21_j2-grande',\n 'wmt_14:language_pair=ru-en,model=ai21_j2-jumbo',\n 'wmt_14:language_pair=ru-en,model=anthropic_claude-2.0',\n 'wmt_14:language_pair=ru-en,model=anthropic_claude-2.1',\n 'wmt_14:language_pair=ru-en,model=anthropic_claude-instant-1.2',\n 'wmt_14:language_pair=ru-en,model=anthropic_claude-v1.3',\n 'wmt_14:language_pair=ru-en,model=cohere_command',\n 'wmt_14:language_pair=ru-en,model=cohere_command-light',\n 'wmt_14:language_pair=ru-en,model=google_text-bison@001',\n 'wmt_14:language_pair=ru-en,model=google_text-unicorn@001',\n 'wmt_14:language_pair=ru-en,model=meta_llama-2-13b',\n 'wmt_14:language_pair=ru-en,model=meta_llama-2-70b',\n 'wmt_14:language_pair=ru-en,model=meta_llama-2-7b',\n 'wmt_14:language_pair=ru-en,model=meta_llama-65b',\n 'wmt_14:language_pair=ru-en,model=mistralai_mistral-7b-v0.1',\n 'wmt_14:language_pair=ru-en,model=mistralai_mixtral-8x7b-32kseqlen',\n 'wmt_14:language_pair=ru-en,model=openai_gpt-3.5-turbo-0613',\n 'wmt_14:language_pair=ru-en,model=openai_gpt-4-0613',\n 'wmt_14:language_pair=ru-en,model=openai_gpt-4-1106-preview',\n 'wmt_14:language_pair=ru-en,model=openai_text-davinci-002',\n 'wmt_14:language_pair=ru-en,model=openai_text-davinci-003',\n 'wmt_14:language_pair=ru-en,model=tiiuae_falcon-40b',\n 'wmt_14:language_pair=ru-en,model=tiiuae_falcon-7b',\n 'wmt_14:language_pair=ru-en,model=writer_palmyra-x-v2',\n 'wmt_14:language_pair=ru-en,model=writer_palmyra-x-v3']"
     },
     "execution_count": 10,
     "metadata": {},
     "output_type": "execute_result"
    }
   ],
   "source": [
    "tasks_list"
   ],
   "metadata": {
    "collapsed": false,
    "ExecuteTime": {
     "end_time": "2024-03-28T14:54:15.920715Z",
     "start_time": "2024-03-28T14:54:15.871877Z"
    }
   },
   "id": "ccc5e344a14a0c11",
   "execution_count": 10
  },
  {
   "metadata": {},
   "cell_type": "code",
   "outputs": [],
   "execution_count": null,
   "source": [
    "import os, sys\n",
    "wd = os.getcwd()"
   ],
   "id": "a65e75d72d0241d2"
  },
  {
   "cell_type": "code",
   "outputs": [],
   "source": [
    "template_url = f\"https://storage.googleapis.com/crfm-helm-public/lite/benchmark_output/runs/{version_to_run}\"\n",
    "save_dir = f\"{wd}/../../results/helm_lite_{version_to_run}\""
   ],
   "metadata": {
    "collapsed": false,
    "ExecuteTime": {
     "end_time": "2024-03-28T14:54:15.932231Z",
     "start_time": "2024-03-28T14:54:15.924698Z"
    }
   },
   "id": "d464e35d65e4f6bf",
   "execution_count": 11
  },
  {
   "cell_type": "markdown",
   "source": [
    "The following cell downloads all the raw data."
   ],
   "metadata": {
    "collapsed": false
   },
   "id": "fc29a26c8f1fb432"
  },
  {
   "cell_type": "code",
   "execution_count": 12,
   "id": "a3f67409",
   "metadata": {
    "ExecuteTime": {
     "end_time": "2024-03-28T15:00:10.821298Z",
     "start_time": "2024-03-28T14:54:15.936785Z"
    }
   },
   "outputs": [
    {
     "data": {
      "text/plain": "  0%|          | 0/840 [00:00<?, ?it/s]",
      "application/vnd.jupyter.widget-view+json": {
       "version_major": 2,
       "version_minor": 0,
       "model_id": "3e60072aedac4bf9be647f3782a8cd50"
      }
     },
     "metadata": {},
     "output_type": "display_data"
    },
    {
     "name": "stdout",
     "output_type": "stream",
     "text": [
      "download  https://storage.googleapis.com/crfm-helm-public/lite/benchmark_output/runs/v1.0.0/natural_qa:mode=closedbook,model=anthropic_claude-v1.3/display_predictions.json\n",
      "download  https://storage.googleapis.com/crfm-helm-public/lite/benchmark_output/runs/v1.0.0/natural_qa:mode=closedbook,model=cohere_command/display_predictions.json\n",
      "download  https://storage.googleapis.com/crfm-helm-public/lite/benchmark_output/runs/v1.0.0/natural_qa:mode=closedbook,model=cohere_command-light/display_predictions.json\n",
      "download  https://storage.googleapis.com/crfm-helm-public/lite/benchmark_output/runs/v1.0.0/natural_qa:mode=closedbook,model=google_text-bison@001/display_predictions.json\n",
      "download  https://storage.googleapis.com/crfm-helm-public/lite/benchmark_output/runs/v1.0.0/natural_qa:mode=closedbook,model=google_text-unicorn@001/display_predictions.json\n",
      "download  https://storage.googleapis.com/crfm-helm-public/lite/benchmark_output/runs/v1.0.0/natural_qa:mode=closedbook,model=meta_llama-2-13b/display_predictions.json\n",
      "download  https://storage.googleapis.com/crfm-helm-public/lite/benchmark_output/runs/v1.0.0/natural_qa:mode=closedbook,model=meta_llama-2-70b/display_predictions.json\n",
      "download  https://storage.googleapis.com/crfm-helm-public/lite/benchmark_output/runs/v1.0.0/natural_qa:mode=closedbook,model=meta_llama-2-7b/display_predictions.json\n",
      "download  https://storage.googleapis.com/crfm-helm-public/lite/benchmark_output/runs/v1.0.0/natural_qa:mode=closedbook,model=meta_llama-65b/display_predictions.json\n",
      "download  https://storage.googleapis.com/crfm-helm-public/lite/benchmark_output/runs/v1.0.0/natural_qa:mode=closedbook,model=mistralai_mistral-7b-v0.1/display_predictions.json\n",
      "download  https://storage.googleapis.com/crfm-helm-public/lite/benchmark_output/runs/v1.0.0/natural_qa:mode=closedbook,model=mistralai_mixtral-8x7b-32kseqlen/display_predictions.json\n",
      "download  https://storage.googleapis.com/crfm-helm-public/lite/benchmark_output/runs/v1.0.0/natural_qa:mode=closedbook,model=openai_gpt-3.5-turbo-0613/display_predictions.json\n",
      "download  https://storage.googleapis.com/crfm-helm-public/lite/benchmark_output/runs/v1.0.0/natural_qa:mode=closedbook,model=openai_gpt-4-0613/display_predictions.json\n",
      "download  https://storage.googleapis.com/crfm-helm-public/lite/benchmark_output/runs/v1.0.0/natural_qa:mode=closedbook,model=openai_gpt-4-1106-preview/display_predictions.json\n",
      "download  https://storage.googleapis.com/crfm-helm-public/lite/benchmark_output/runs/v1.0.0/natural_qa:mode=closedbook,model=openai_text-davinci-002/display_predictions.json\n",
      "download  https://storage.googleapis.com/crfm-helm-public/lite/benchmark_output/runs/v1.0.0/natural_qa:mode=closedbook,model=openai_text-davinci-003/display_predictions.json\n",
      "download  https://storage.googleapis.com/crfm-helm-public/lite/benchmark_output/runs/v1.0.0/natural_qa:mode=closedbook,model=tiiuae_falcon-40b/display_predictions.json\n",
      "download  https://storage.googleapis.com/crfm-helm-public/lite/benchmark_output/runs/v1.0.0/natural_qa:mode=closedbook,model=tiiuae_falcon-7b/display_predictions.json\n",
      "download  https://storage.googleapis.com/crfm-helm-public/lite/benchmark_output/runs/v1.0.0/natural_qa:mode=closedbook,model=writer_palmyra-x-v2/display_predictions.json\n",
      "download  https://storage.googleapis.com/crfm-helm-public/lite/benchmark_output/runs/v1.0.0/natural_qa:mode=closedbook,model=writer_palmyra-x-v3/display_predictions.json\n",
      "download  https://storage.googleapis.com/crfm-helm-public/lite/benchmark_output/runs/v1.0.0/natural_qa:mode=openbook_longans,model=01-ai_yi-34b/display_predictions.json\n",
      "download  https://storage.googleapis.com/crfm-helm-public/lite/benchmark_output/runs/v1.0.0/natural_qa:mode=openbook_longans,model=01-ai_yi-6b/display_predictions.json\n",
      "download  https://storage.googleapis.com/crfm-helm-public/lite/benchmark_output/runs/v1.0.0/natural_qa:mode=openbook_longans,model=AlephAlpha_luminous-base/display_predictions.json\n",
      "download  https://storage.googleapis.com/crfm-helm-public/lite/benchmark_output/runs/v1.0.0/natural_qa:mode=openbook_longans,model=AlephAlpha_luminous-extended/display_predictions.json\n",
      "download  https://storage.googleapis.com/crfm-helm-public/lite/benchmark_output/runs/v1.0.0/natural_qa:mode=openbook_longans,model=AlephAlpha_luminous-supreme/display_predictions.json\n",
      "download  https://storage.googleapis.com/crfm-helm-public/lite/benchmark_output/runs/v1.0.0/natural_qa:mode=openbook_longans,model=ai21_j2-grande/display_predictions.json\n",
      "download  https://storage.googleapis.com/crfm-helm-public/lite/benchmark_output/runs/v1.0.0/natural_qa:mode=openbook_longans,model=ai21_j2-jumbo/display_predictions.json\n",
      "download  https://storage.googleapis.com/crfm-helm-public/lite/benchmark_output/runs/v1.0.0/natural_qa:mode=openbook_longans,model=anthropic_claude-2.0/display_predictions.json\n",
      "download  https://storage.googleapis.com/crfm-helm-public/lite/benchmark_output/runs/v1.0.0/natural_qa:mode=openbook_longans,model=anthropic_claude-2.1/display_predictions.json\n",
      "download  https://storage.googleapis.com/crfm-helm-public/lite/benchmark_output/runs/v1.0.0/natural_qa:mode=openbook_longans,model=anthropic_claude-instant-1.2/display_predictions.json\n",
      "download  https://storage.googleapis.com/crfm-helm-public/lite/benchmark_output/runs/v1.0.0/natural_qa:mode=openbook_longans,model=anthropic_claude-v1.3/display_predictions.json\n",
      "download  https://storage.googleapis.com/crfm-helm-public/lite/benchmark_output/runs/v1.0.0/natural_qa:mode=openbook_longans,model=cohere_command/display_predictions.json\n",
      "download  https://storage.googleapis.com/crfm-helm-public/lite/benchmark_output/runs/v1.0.0/natural_qa:mode=openbook_longans,model=cohere_command-light/display_predictions.json\n",
      "download  https://storage.googleapis.com/crfm-helm-public/lite/benchmark_output/runs/v1.0.0/natural_qa:mode=openbook_longans,model=google_text-bison@001/display_predictions.json\n",
      "download  https://storage.googleapis.com/crfm-helm-public/lite/benchmark_output/runs/v1.0.0/natural_qa:mode=openbook_longans,model=google_text-unicorn@001/display_predictions.json\n",
      "download  https://storage.googleapis.com/crfm-helm-public/lite/benchmark_output/runs/v1.0.0/natural_qa:mode=openbook_longans,model=meta_llama-2-13b/display_predictions.json\n",
      "download  https://storage.googleapis.com/crfm-helm-public/lite/benchmark_output/runs/v1.0.0/natural_qa:mode=openbook_longans,model=meta_llama-2-70b/display_predictions.json\n",
      "download  https://storage.googleapis.com/crfm-helm-public/lite/benchmark_output/runs/v1.0.0/natural_qa:mode=openbook_longans,model=meta_llama-2-7b/display_predictions.json\n",
      "download  https://storage.googleapis.com/crfm-helm-public/lite/benchmark_output/runs/v1.0.0/natural_qa:mode=openbook_longans,model=meta_llama-65b/display_predictions.json\n",
      "download  https://storage.googleapis.com/crfm-helm-public/lite/benchmark_output/runs/v1.0.0/natural_qa:mode=openbook_longans,model=mistralai_mistral-7b-v0.1/display_predictions.json\n",
      "download  https://storage.googleapis.com/crfm-helm-public/lite/benchmark_output/runs/v1.0.0/natural_qa:mode=openbook_longans,model=mistralai_mixtral-8x7b-32kseqlen/display_predictions.json\n",
      "download  https://storage.googleapis.com/crfm-helm-public/lite/benchmark_output/runs/v1.0.0/natural_qa:mode=openbook_longans,model=openai_gpt-3.5-turbo-0613/display_predictions.json\n",
      "download  https://storage.googleapis.com/crfm-helm-public/lite/benchmark_output/runs/v1.0.0/natural_qa:mode=openbook_longans,model=openai_gpt-4-0613/display_predictions.json\n",
      "download  https://storage.googleapis.com/crfm-helm-public/lite/benchmark_output/runs/v1.0.0/natural_qa:mode=openbook_longans,model=openai_gpt-4-1106-preview/display_predictions.json\n",
      "download  https://storage.googleapis.com/crfm-helm-public/lite/benchmark_output/runs/v1.0.0/natural_qa:mode=openbook_longans,model=openai_text-davinci-002/display_predictions.json\n",
      "download  https://storage.googleapis.com/crfm-helm-public/lite/benchmark_output/runs/v1.0.0/natural_qa:mode=openbook_longans,model=openai_text-davinci-003/display_predictions.json\n",
      "download  https://storage.googleapis.com/crfm-helm-public/lite/benchmark_output/runs/v1.0.0/natural_qa:mode=openbook_longans,model=tiiuae_falcon-40b/display_predictions.json\n",
      "download  https://storage.googleapis.com/crfm-helm-public/lite/benchmark_output/runs/v1.0.0/natural_qa:mode=openbook_longans,model=tiiuae_falcon-7b/display_predictions.json\n",
      "download  https://storage.googleapis.com/crfm-helm-public/lite/benchmark_output/runs/v1.0.0/natural_qa:mode=openbook_longans,model=writer_palmyra-x-v2/display_predictions.json\n",
      "download  https://storage.googleapis.com/crfm-helm-public/lite/benchmark_output/runs/v1.0.0/natural_qa:mode=openbook_longans,model=writer_palmyra-x-v3/display_predictions.json\n",
      "download  https://storage.googleapis.com/crfm-helm-public/lite/benchmark_output/runs/v1.0.0/wmt_14:language_pair=cs-en,model=01-ai_yi-34b/display_predictions.json\n",
      "download  https://storage.googleapis.com/crfm-helm-public/lite/benchmark_output/runs/v1.0.0/wmt_14:language_pair=cs-en,model=01-ai_yi-6b/display_predictions.json\n",
      "download  https://storage.googleapis.com/crfm-helm-public/lite/benchmark_output/runs/v1.0.0/wmt_14:language_pair=cs-en,model=AlephAlpha_luminous-base/display_predictions.json\n",
      "download  https://storage.googleapis.com/crfm-helm-public/lite/benchmark_output/runs/v1.0.0/wmt_14:language_pair=cs-en,model=AlephAlpha_luminous-extended/display_predictions.json\n",
      "download  https://storage.googleapis.com/crfm-helm-public/lite/benchmark_output/runs/v1.0.0/wmt_14:language_pair=cs-en,model=AlephAlpha_luminous-supreme/display_predictions.json\n",
      "download  https://storage.googleapis.com/crfm-helm-public/lite/benchmark_output/runs/v1.0.0/wmt_14:language_pair=cs-en,model=ai21_j2-grande/display_predictions.json\n",
      "download  https://storage.googleapis.com/crfm-helm-public/lite/benchmark_output/runs/v1.0.0/wmt_14:language_pair=cs-en,model=ai21_j2-jumbo/display_predictions.json\n",
      "download  https://storage.googleapis.com/crfm-helm-public/lite/benchmark_output/runs/v1.0.0/wmt_14:language_pair=cs-en,model=anthropic_claude-2.0/display_predictions.json\n",
      "download  https://storage.googleapis.com/crfm-helm-public/lite/benchmark_output/runs/v1.0.0/wmt_14:language_pair=cs-en,model=anthropic_claude-2.1/display_predictions.json\n",
      "download  https://storage.googleapis.com/crfm-helm-public/lite/benchmark_output/runs/v1.0.0/wmt_14:language_pair=cs-en,model=anthropic_claude-instant-1.2/display_predictions.json\n",
      "download  https://storage.googleapis.com/crfm-helm-public/lite/benchmark_output/runs/v1.0.0/wmt_14:language_pair=cs-en,model=anthropic_claude-v1.3/display_predictions.json\n",
      "download  https://storage.googleapis.com/crfm-helm-public/lite/benchmark_output/runs/v1.0.0/wmt_14:language_pair=cs-en,model=cohere_command/display_predictions.json\n",
      "download  https://storage.googleapis.com/crfm-helm-public/lite/benchmark_output/runs/v1.0.0/wmt_14:language_pair=cs-en,model=cohere_command-light/display_predictions.json\n",
      "download  https://storage.googleapis.com/crfm-helm-public/lite/benchmark_output/runs/v1.0.0/wmt_14:language_pair=cs-en,model=google_text-bison@001/display_predictions.json\n",
      "download  https://storage.googleapis.com/crfm-helm-public/lite/benchmark_output/runs/v1.0.0/wmt_14:language_pair=cs-en,model=google_text-unicorn@001/display_predictions.json\n",
      "download  https://storage.googleapis.com/crfm-helm-public/lite/benchmark_output/runs/v1.0.0/wmt_14:language_pair=cs-en,model=meta_llama-2-13b/display_predictions.json\n",
      "download  https://storage.googleapis.com/crfm-helm-public/lite/benchmark_output/runs/v1.0.0/wmt_14:language_pair=cs-en,model=meta_llama-2-70b/display_predictions.json\n",
      "download  https://storage.googleapis.com/crfm-helm-public/lite/benchmark_output/runs/v1.0.0/wmt_14:language_pair=cs-en,model=meta_llama-2-7b/display_predictions.json\n",
      "download  https://storage.googleapis.com/crfm-helm-public/lite/benchmark_output/runs/v1.0.0/wmt_14:language_pair=cs-en,model=meta_llama-65b/display_predictions.json\n",
      "download  https://storage.googleapis.com/crfm-helm-public/lite/benchmark_output/runs/v1.0.0/wmt_14:language_pair=cs-en,model=mistralai_mistral-7b-v0.1/display_predictions.json\n",
      "download  https://storage.googleapis.com/crfm-helm-public/lite/benchmark_output/runs/v1.0.0/wmt_14:language_pair=cs-en,model=mistralai_mixtral-8x7b-32kseqlen/display_predictions.json\n",
      "download  https://storage.googleapis.com/crfm-helm-public/lite/benchmark_output/runs/v1.0.0/wmt_14:language_pair=cs-en,model=openai_gpt-3.5-turbo-0613/display_predictions.json\n",
      "download  https://storage.googleapis.com/crfm-helm-public/lite/benchmark_output/runs/v1.0.0/wmt_14:language_pair=cs-en,model=openai_gpt-4-0613/display_predictions.json\n",
      "download  https://storage.googleapis.com/crfm-helm-public/lite/benchmark_output/runs/v1.0.0/wmt_14:language_pair=cs-en,model=openai_gpt-4-1106-preview/display_predictions.json\n",
      "download  https://storage.googleapis.com/crfm-helm-public/lite/benchmark_output/runs/v1.0.0/wmt_14:language_pair=cs-en,model=openai_text-davinci-002/display_predictions.json\n",
      "download  https://storage.googleapis.com/crfm-helm-public/lite/benchmark_output/runs/v1.0.0/wmt_14:language_pair=cs-en,model=openai_text-davinci-003/display_predictions.json\n",
      "download  https://storage.googleapis.com/crfm-helm-public/lite/benchmark_output/runs/v1.0.0/wmt_14:language_pair=cs-en,model=tiiuae_falcon-40b/display_predictions.json\n",
      "download  https://storage.googleapis.com/crfm-helm-public/lite/benchmark_output/runs/v1.0.0/wmt_14:language_pair=cs-en,model=tiiuae_falcon-7b/display_predictions.json\n",
      "download  https://storage.googleapis.com/crfm-helm-public/lite/benchmark_output/runs/v1.0.0/wmt_14:language_pair=cs-en,model=writer_palmyra-x-v2/display_predictions.json\n",
      "download  https://storage.googleapis.com/crfm-helm-public/lite/benchmark_output/runs/v1.0.0/wmt_14:language_pair=cs-en,model=writer_palmyra-x-v3/display_predictions.json\n",
      "download  https://storage.googleapis.com/crfm-helm-public/lite/benchmark_output/runs/v1.0.0/wmt_14:language_pair=de-en,model=01-ai_yi-34b/display_predictions.json\n",
      "download  https://storage.googleapis.com/crfm-helm-public/lite/benchmark_output/runs/v1.0.0/wmt_14:language_pair=de-en,model=01-ai_yi-6b/display_predictions.json\n",
      "download  https://storage.googleapis.com/crfm-helm-public/lite/benchmark_output/runs/v1.0.0/wmt_14:language_pair=de-en,model=AlephAlpha_luminous-base/display_predictions.json\n",
      "download  https://storage.googleapis.com/crfm-helm-public/lite/benchmark_output/runs/v1.0.0/wmt_14:language_pair=de-en,model=AlephAlpha_luminous-extended/display_predictions.json\n",
      "download  https://storage.googleapis.com/crfm-helm-public/lite/benchmark_output/runs/v1.0.0/wmt_14:language_pair=de-en,model=AlephAlpha_luminous-supreme/display_predictions.json\n",
      "download  https://storage.googleapis.com/crfm-helm-public/lite/benchmark_output/runs/v1.0.0/wmt_14:language_pair=de-en,model=ai21_j2-grande/display_predictions.json\n",
      "download  https://storage.googleapis.com/crfm-helm-public/lite/benchmark_output/runs/v1.0.0/wmt_14:language_pair=de-en,model=ai21_j2-jumbo/display_predictions.json\n",
      "download  https://storage.googleapis.com/crfm-helm-public/lite/benchmark_output/runs/v1.0.0/wmt_14:language_pair=de-en,model=anthropic_claude-2.0/display_predictions.json\n",
      "download  https://storage.googleapis.com/crfm-helm-public/lite/benchmark_output/runs/v1.0.0/wmt_14:language_pair=de-en,model=anthropic_claude-2.1/display_predictions.json\n",
      "download  https://storage.googleapis.com/crfm-helm-public/lite/benchmark_output/runs/v1.0.0/wmt_14:language_pair=de-en,model=anthropic_claude-instant-1.2/display_predictions.json\n",
      "download  https://storage.googleapis.com/crfm-helm-public/lite/benchmark_output/runs/v1.0.0/wmt_14:language_pair=de-en,model=anthropic_claude-v1.3/display_predictions.json\n",
      "download  https://storage.googleapis.com/crfm-helm-public/lite/benchmark_output/runs/v1.0.0/wmt_14:language_pair=de-en,model=cohere_command/display_predictions.json\n",
      "download  https://storage.googleapis.com/crfm-helm-public/lite/benchmark_output/runs/v1.0.0/wmt_14:language_pair=de-en,model=cohere_command-light/display_predictions.json\n",
      "download  https://storage.googleapis.com/crfm-helm-public/lite/benchmark_output/runs/v1.0.0/wmt_14:language_pair=de-en,model=google_text-bison@001/display_predictions.json\n",
      "download  https://storage.googleapis.com/crfm-helm-public/lite/benchmark_output/runs/v1.0.0/wmt_14:language_pair=de-en,model=google_text-unicorn@001/display_predictions.json\n",
      "download  https://storage.googleapis.com/crfm-helm-public/lite/benchmark_output/runs/v1.0.0/wmt_14:language_pair=de-en,model=meta_llama-2-13b/display_predictions.json\n",
      "download  https://storage.googleapis.com/crfm-helm-public/lite/benchmark_output/runs/v1.0.0/wmt_14:language_pair=de-en,model=meta_llama-2-70b/display_predictions.json\n",
      "download  https://storage.googleapis.com/crfm-helm-public/lite/benchmark_output/runs/v1.0.0/wmt_14:language_pair=de-en,model=meta_llama-2-7b/display_predictions.json\n",
      "download  https://storage.googleapis.com/crfm-helm-public/lite/benchmark_output/runs/v1.0.0/wmt_14:language_pair=de-en,model=meta_llama-65b/display_predictions.json\n",
      "download  https://storage.googleapis.com/crfm-helm-public/lite/benchmark_output/runs/v1.0.0/wmt_14:language_pair=de-en,model=mistralai_mistral-7b-v0.1/display_predictions.json\n",
      "download  https://storage.googleapis.com/crfm-helm-public/lite/benchmark_output/runs/v1.0.0/wmt_14:language_pair=de-en,model=mistralai_mixtral-8x7b-32kseqlen/display_predictions.json\n",
      "download  https://storage.googleapis.com/crfm-helm-public/lite/benchmark_output/runs/v1.0.0/wmt_14:language_pair=de-en,model=openai_gpt-3.5-turbo-0613/display_predictions.json\n",
      "download  https://storage.googleapis.com/crfm-helm-public/lite/benchmark_output/runs/v1.0.0/wmt_14:language_pair=de-en,model=openai_gpt-4-0613/display_predictions.json\n",
      "download  https://storage.googleapis.com/crfm-helm-public/lite/benchmark_output/runs/v1.0.0/wmt_14:language_pair=de-en,model=openai_gpt-4-1106-preview/display_predictions.json\n",
      "download  https://storage.googleapis.com/crfm-helm-public/lite/benchmark_output/runs/v1.0.0/wmt_14:language_pair=de-en,model=openai_text-davinci-002/display_predictions.json\n",
      "download  https://storage.googleapis.com/crfm-helm-public/lite/benchmark_output/runs/v1.0.0/wmt_14:language_pair=de-en,model=openai_text-davinci-003/display_predictions.json\n",
      "download  https://storage.googleapis.com/crfm-helm-public/lite/benchmark_output/runs/v1.0.0/wmt_14:language_pair=de-en,model=tiiuae_falcon-40b/display_predictions.json\n",
      "download  https://storage.googleapis.com/crfm-helm-public/lite/benchmark_output/runs/v1.0.0/wmt_14:language_pair=de-en,model=tiiuae_falcon-7b/display_predictions.json\n",
      "download  https://storage.googleapis.com/crfm-helm-public/lite/benchmark_output/runs/v1.0.0/wmt_14:language_pair=de-en,model=writer_palmyra-x-v2/display_predictions.json\n",
      "download  https://storage.googleapis.com/crfm-helm-public/lite/benchmark_output/runs/v1.0.0/wmt_14:language_pair=de-en,model=writer_palmyra-x-v3/display_predictions.json\n",
      "download  https://storage.googleapis.com/crfm-helm-public/lite/benchmark_output/runs/v1.0.0/wmt_14:language_pair=fr-en,model=01-ai_yi-34b/display_predictions.json\n",
      "download  https://storage.googleapis.com/crfm-helm-public/lite/benchmark_output/runs/v1.0.0/wmt_14:language_pair=fr-en,model=01-ai_yi-6b/display_predictions.json\n",
      "download  https://storage.googleapis.com/crfm-helm-public/lite/benchmark_output/runs/v1.0.0/wmt_14:language_pair=fr-en,model=AlephAlpha_luminous-base/display_predictions.json\n",
      "download  https://storage.googleapis.com/crfm-helm-public/lite/benchmark_output/runs/v1.0.0/wmt_14:language_pair=fr-en,model=AlephAlpha_luminous-extended/display_predictions.json\n",
      "download  https://storage.googleapis.com/crfm-helm-public/lite/benchmark_output/runs/v1.0.0/wmt_14:language_pair=fr-en,model=AlephAlpha_luminous-supreme/display_predictions.json\n",
      "download  https://storage.googleapis.com/crfm-helm-public/lite/benchmark_output/runs/v1.0.0/wmt_14:language_pair=fr-en,model=ai21_j2-grande/display_predictions.json\n",
      "download  https://storage.googleapis.com/crfm-helm-public/lite/benchmark_output/runs/v1.0.0/wmt_14:language_pair=fr-en,model=ai21_j2-jumbo/display_predictions.json\n",
      "download  https://storage.googleapis.com/crfm-helm-public/lite/benchmark_output/runs/v1.0.0/wmt_14:language_pair=fr-en,model=anthropic_claude-2.0/display_predictions.json\n",
      "download  https://storage.googleapis.com/crfm-helm-public/lite/benchmark_output/runs/v1.0.0/wmt_14:language_pair=fr-en,model=anthropic_claude-2.1/display_predictions.json\n",
      "download  https://storage.googleapis.com/crfm-helm-public/lite/benchmark_output/runs/v1.0.0/wmt_14:language_pair=fr-en,model=anthropic_claude-instant-1.2/display_predictions.json\n",
      "download  https://storage.googleapis.com/crfm-helm-public/lite/benchmark_output/runs/v1.0.0/wmt_14:language_pair=fr-en,model=anthropic_claude-v1.3/display_predictions.json\n",
      "download  https://storage.googleapis.com/crfm-helm-public/lite/benchmark_output/runs/v1.0.0/wmt_14:language_pair=fr-en,model=cohere_command/display_predictions.json\n",
      "download  https://storage.googleapis.com/crfm-helm-public/lite/benchmark_output/runs/v1.0.0/wmt_14:language_pair=fr-en,model=cohere_command-light/display_predictions.json\n",
      "download  https://storage.googleapis.com/crfm-helm-public/lite/benchmark_output/runs/v1.0.0/wmt_14:language_pair=fr-en,model=google_text-bison@001/display_predictions.json\n",
      "download  https://storage.googleapis.com/crfm-helm-public/lite/benchmark_output/runs/v1.0.0/wmt_14:language_pair=fr-en,model=google_text-unicorn@001/display_predictions.json\n",
      "download  https://storage.googleapis.com/crfm-helm-public/lite/benchmark_output/runs/v1.0.0/wmt_14:language_pair=fr-en,model=meta_llama-2-13b/display_predictions.json\n",
      "download  https://storage.googleapis.com/crfm-helm-public/lite/benchmark_output/runs/v1.0.0/wmt_14:language_pair=fr-en,model=meta_llama-2-70b/display_predictions.json\n",
      "download  https://storage.googleapis.com/crfm-helm-public/lite/benchmark_output/runs/v1.0.0/wmt_14:language_pair=fr-en,model=meta_llama-2-7b/display_predictions.json\n",
      "download  https://storage.googleapis.com/crfm-helm-public/lite/benchmark_output/runs/v1.0.0/wmt_14:language_pair=fr-en,model=meta_llama-65b/display_predictions.json\n",
      "download  https://storage.googleapis.com/crfm-helm-public/lite/benchmark_output/runs/v1.0.0/wmt_14:language_pair=fr-en,model=mistralai_mistral-7b-v0.1/display_predictions.json\n",
      "download  https://storage.googleapis.com/crfm-helm-public/lite/benchmark_output/runs/v1.0.0/wmt_14:language_pair=fr-en,model=mistralai_mixtral-8x7b-32kseqlen/display_predictions.json\n",
      "download  https://storage.googleapis.com/crfm-helm-public/lite/benchmark_output/runs/v1.0.0/wmt_14:language_pair=fr-en,model=openai_gpt-3.5-turbo-0613/display_predictions.json\n",
      "download  https://storage.googleapis.com/crfm-helm-public/lite/benchmark_output/runs/v1.0.0/wmt_14:language_pair=fr-en,model=openai_gpt-4-0613/display_predictions.json\n",
      "download  https://storage.googleapis.com/crfm-helm-public/lite/benchmark_output/runs/v1.0.0/wmt_14:language_pair=fr-en,model=openai_gpt-4-1106-preview/display_predictions.json\n",
      "download  https://storage.googleapis.com/crfm-helm-public/lite/benchmark_output/runs/v1.0.0/wmt_14:language_pair=fr-en,model=openai_text-davinci-002/display_predictions.json\n",
      "download  https://storage.googleapis.com/crfm-helm-public/lite/benchmark_output/runs/v1.0.0/wmt_14:language_pair=fr-en,model=openai_text-davinci-003/display_predictions.json\n",
      "download  https://storage.googleapis.com/crfm-helm-public/lite/benchmark_output/runs/v1.0.0/wmt_14:language_pair=fr-en,model=tiiuae_falcon-40b/display_predictions.json\n",
      "download  https://storage.googleapis.com/crfm-helm-public/lite/benchmark_output/runs/v1.0.0/wmt_14:language_pair=fr-en,model=tiiuae_falcon-7b/display_predictions.json\n",
      "download  https://storage.googleapis.com/crfm-helm-public/lite/benchmark_output/runs/v1.0.0/wmt_14:language_pair=fr-en,model=writer_palmyra-x-v2/display_predictions.json\n",
      "download  https://storage.googleapis.com/crfm-helm-public/lite/benchmark_output/runs/v1.0.0/wmt_14:language_pair=fr-en,model=writer_palmyra-x-v3/display_predictions.json\n",
      "download  https://storage.googleapis.com/crfm-helm-public/lite/benchmark_output/runs/v1.0.0/wmt_14:language_pair=hi-en,model=01-ai_yi-34b/display_predictions.json\n",
      "download  https://storage.googleapis.com/crfm-helm-public/lite/benchmark_output/runs/v1.0.0/wmt_14:language_pair=hi-en,model=01-ai_yi-6b/display_predictions.json\n",
      "download  https://storage.googleapis.com/crfm-helm-public/lite/benchmark_output/runs/v1.0.0/wmt_14:language_pair=hi-en,model=AlephAlpha_luminous-base/display_predictions.json\n",
      "download  https://storage.googleapis.com/crfm-helm-public/lite/benchmark_output/runs/v1.0.0/wmt_14:language_pair=hi-en,model=AlephAlpha_luminous-extended/display_predictions.json\n",
      "download  https://storage.googleapis.com/crfm-helm-public/lite/benchmark_output/runs/v1.0.0/wmt_14:language_pair=hi-en,model=AlephAlpha_luminous-supreme/display_predictions.json\n",
      "download  https://storage.googleapis.com/crfm-helm-public/lite/benchmark_output/runs/v1.0.0/wmt_14:language_pair=hi-en,model=ai21_j2-grande/display_predictions.json\n",
      "download  https://storage.googleapis.com/crfm-helm-public/lite/benchmark_output/runs/v1.0.0/wmt_14:language_pair=hi-en,model=ai21_j2-jumbo/display_predictions.json\n",
      "download  https://storage.googleapis.com/crfm-helm-public/lite/benchmark_output/runs/v1.0.0/wmt_14:language_pair=hi-en,model=anthropic_claude-2.0/display_predictions.json\n",
      "download  https://storage.googleapis.com/crfm-helm-public/lite/benchmark_output/runs/v1.0.0/wmt_14:language_pair=hi-en,model=anthropic_claude-2.1/display_predictions.json\n",
      "download  https://storage.googleapis.com/crfm-helm-public/lite/benchmark_output/runs/v1.0.0/wmt_14:language_pair=hi-en,model=anthropic_claude-instant-1.2/display_predictions.json\n",
      "download  https://storage.googleapis.com/crfm-helm-public/lite/benchmark_output/runs/v1.0.0/wmt_14:language_pair=hi-en,model=anthropic_claude-v1.3/display_predictions.json\n",
      "download  https://storage.googleapis.com/crfm-helm-public/lite/benchmark_output/runs/v1.0.0/wmt_14:language_pair=hi-en,model=cohere_command/display_predictions.json\n",
      "download  https://storage.googleapis.com/crfm-helm-public/lite/benchmark_output/runs/v1.0.0/wmt_14:language_pair=hi-en,model=cohere_command-light/display_predictions.json\n",
      "download  https://storage.googleapis.com/crfm-helm-public/lite/benchmark_output/runs/v1.0.0/wmt_14:language_pair=hi-en,model=google_text-bison@001/display_predictions.json\n",
      "download  https://storage.googleapis.com/crfm-helm-public/lite/benchmark_output/runs/v1.0.0/wmt_14:language_pair=hi-en,model=google_text-unicorn@001/display_predictions.json\n",
      "download  https://storage.googleapis.com/crfm-helm-public/lite/benchmark_output/runs/v1.0.0/wmt_14:language_pair=hi-en,model=meta_llama-2-13b/display_predictions.json\n",
      "download  https://storage.googleapis.com/crfm-helm-public/lite/benchmark_output/runs/v1.0.0/wmt_14:language_pair=hi-en,model=meta_llama-2-70b/display_predictions.json\n",
      "download  https://storage.googleapis.com/crfm-helm-public/lite/benchmark_output/runs/v1.0.0/wmt_14:language_pair=hi-en,model=meta_llama-2-7b/display_predictions.json\n",
      "download  https://storage.googleapis.com/crfm-helm-public/lite/benchmark_output/runs/v1.0.0/wmt_14:language_pair=hi-en,model=meta_llama-65b/display_predictions.json\n",
      "download  https://storage.googleapis.com/crfm-helm-public/lite/benchmark_output/runs/v1.0.0/wmt_14:language_pair=hi-en,model=mistralai_mistral-7b-v0.1/display_predictions.json\n",
      "download  https://storage.googleapis.com/crfm-helm-public/lite/benchmark_output/runs/v1.0.0/wmt_14:language_pair=hi-en,model=mistralai_mixtral-8x7b-32kseqlen/display_predictions.json\n",
      "download  https://storage.googleapis.com/crfm-helm-public/lite/benchmark_output/runs/v1.0.0/wmt_14:language_pair=hi-en,model=openai_gpt-3.5-turbo-0613/display_predictions.json\n",
      "download  https://storage.googleapis.com/crfm-helm-public/lite/benchmark_output/runs/v1.0.0/wmt_14:language_pair=hi-en,model=openai_gpt-4-0613/display_predictions.json\n",
      "download  https://storage.googleapis.com/crfm-helm-public/lite/benchmark_output/runs/v1.0.0/wmt_14:language_pair=hi-en,model=openai_gpt-4-1106-preview/display_predictions.json\n",
      "download  https://storage.googleapis.com/crfm-helm-public/lite/benchmark_output/runs/v1.0.0/wmt_14:language_pair=hi-en,model=openai_text-davinci-002/display_predictions.json\n",
      "download  https://storage.googleapis.com/crfm-helm-public/lite/benchmark_output/runs/v1.0.0/wmt_14:language_pair=hi-en,model=openai_text-davinci-003/display_predictions.json\n",
      "download  https://storage.googleapis.com/crfm-helm-public/lite/benchmark_output/runs/v1.0.0/wmt_14:language_pair=hi-en,model=tiiuae_falcon-40b/display_predictions.json\n",
      "download  https://storage.googleapis.com/crfm-helm-public/lite/benchmark_output/runs/v1.0.0/wmt_14:language_pair=hi-en,model=tiiuae_falcon-7b/display_predictions.json\n",
      "download  https://storage.googleapis.com/crfm-helm-public/lite/benchmark_output/runs/v1.0.0/wmt_14:language_pair=hi-en,model=writer_palmyra-x-v2/display_predictions.json\n",
      "download  https://storage.googleapis.com/crfm-helm-public/lite/benchmark_output/runs/v1.0.0/wmt_14:language_pair=hi-en,model=writer_palmyra-x-v3/display_predictions.json\n",
      "download  https://storage.googleapis.com/crfm-helm-public/lite/benchmark_output/runs/v1.0.0/wmt_14:language_pair=ru-en,model=01-ai_yi-34b/display_predictions.json\n",
      "download  https://storage.googleapis.com/crfm-helm-public/lite/benchmark_output/runs/v1.0.0/wmt_14:language_pair=ru-en,model=01-ai_yi-6b/display_predictions.json\n",
      "download  https://storage.googleapis.com/crfm-helm-public/lite/benchmark_output/runs/v1.0.0/wmt_14:language_pair=ru-en,model=AlephAlpha_luminous-base/display_predictions.json\n",
      "download  https://storage.googleapis.com/crfm-helm-public/lite/benchmark_output/runs/v1.0.0/wmt_14:language_pair=ru-en,model=AlephAlpha_luminous-extended/display_predictions.json\n",
      "download  https://storage.googleapis.com/crfm-helm-public/lite/benchmark_output/runs/v1.0.0/wmt_14:language_pair=ru-en,model=AlephAlpha_luminous-supreme/display_predictions.json\n",
      "download  https://storage.googleapis.com/crfm-helm-public/lite/benchmark_output/runs/v1.0.0/wmt_14:language_pair=ru-en,model=ai21_j2-grande/display_predictions.json\n",
      "download  https://storage.googleapis.com/crfm-helm-public/lite/benchmark_output/runs/v1.0.0/wmt_14:language_pair=ru-en,model=ai21_j2-jumbo/display_predictions.json\n",
      "download  https://storage.googleapis.com/crfm-helm-public/lite/benchmark_output/runs/v1.0.0/wmt_14:language_pair=ru-en,model=anthropic_claude-2.0/display_predictions.json\n",
      "download  https://storage.googleapis.com/crfm-helm-public/lite/benchmark_output/runs/v1.0.0/wmt_14:language_pair=ru-en,model=anthropic_claude-2.1/display_predictions.json\n",
      "download  https://storage.googleapis.com/crfm-helm-public/lite/benchmark_output/runs/v1.0.0/wmt_14:language_pair=ru-en,model=anthropic_claude-instant-1.2/display_predictions.json\n",
      "download  https://storage.googleapis.com/crfm-helm-public/lite/benchmark_output/runs/v1.0.0/wmt_14:language_pair=ru-en,model=anthropic_claude-v1.3/display_predictions.json\n",
      "download  https://storage.googleapis.com/crfm-helm-public/lite/benchmark_output/runs/v1.0.0/wmt_14:language_pair=ru-en,model=cohere_command/display_predictions.json\n",
      "download  https://storage.googleapis.com/crfm-helm-public/lite/benchmark_output/runs/v1.0.0/wmt_14:language_pair=ru-en,model=cohere_command-light/display_predictions.json\n",
      "download  https://storage.googleapis.com/crfm-helm-public/lite/benchmark_output/runs/v1.0.0/wmt_14:language_pair=ru-en,model=google_text-bison@001/display_predictions.json\n",
      "download  https://storage.googleapis.com/crfm-helm-public/lite/benchmark_output/runs/v1.0.0/wmt_14:language_pair=ru-en,model=google_text-unicorn@001/display_predictions.json\n",
      "download  https://storage.googleapis.com/crfm-helm-public/lite/benchmark_output/runs/v1.0.0/wmt_14:language_pair=ru-en,model=meta_llama-2-13b/display_predictions.json\n",
      "download  https://storage.googleapis.com/crfm-helm-public/lite/benchmark_output/runs/v1.0.0/wmt_14:language_pair=ru-en,model=meta_llama-2-70b/display_predictions.json\n",
      "download  https://storage.googleapis.com/crfm-helm-public/lite/benchmark_output/runs/v1.0.0/wmt_14:language_pair=ru-en,model=meta_llama-2-7b/display_predictions.json\n",
      "download  https://storage.googleapis.com/crfm-helm-public/lite/benchmark_output/runs/v1.0.0/wmt_14:language_pair=ru-en,model=meta_llama-65b/display_predictions.json\n",
      "download  https://storage.googleapis.com/crfm-helm-public/lite/benchmark_output/runs/v1.0.0/wmt_14:language_pair=ru-en,model=mistralai_mistral-7b-v0.1/display_predictions.json\n",
      "download  https://storage.googleapis.com/crfm-helm-public/lite/benchmark_output/runs/v1.0.0/wmt_14:language_pair=ru-en,model=mistralai_mixtral-8x7b-32kseqlen/display_predictions.json\n",
      "download  https://storage.googleapis.com/crfm-helm-public/lite/benchmark_output/runs/v1.0.0/wmt_14:language_pair=ru-en,model=openai_gpt-3.5-turbo-0613/display_predictions.json\n",
      "download  https://storage.googleapis.com/crfm-helm-public/lite/benchmark_output/runs/v1.0.0/wmt_14:language_pair=ru-en,model=openai_gpt-4-0613/display_predictions.json\n",
      "download  https://storage.googleapis.com/crfm-helm-public/lite/benchmark_output/runs/v1.0.0/wmt_14:language_pair=ru-en,model=openai_gpt-4-1106-preview/display_predictions.json\n",
      "download  https://storage.googleapis.com/crfm-helm-public/lite/benchmark_output/runs/v1.0.0/wmt_14:language_pair=ru-en,model=openai_text-davinci-002/display_predictions.json\n",
      "download  https://storage.googleapis.com/crfm-helm-public/lite/benchmark_output/runs/v1.0.0/wmt_14:language_pair=ru-en,model=openai_text-davinci-003/display_predictions.json\n",
      "download  https://storage.googleapis.com/crfm-helm-public/lite/benchmark_output/runs/v1.0.0/wmt_14:language_pair=ru-en,model=tiiuae_falcon-40b/display_predictions.json\n",
      "download  https://storage.googleapis.com/crfm-helm-public/lite/benchmark_output/runs/v1.0.0/wmt_14:language_pair=ru-en,model=tiiuae_falcon-7b/display_predictions.json\n",
      "download  https://storage.googleapis.com/crfm-helm-public/lite/benchmark_output/runs/v1.0.0/wmt_14:language_pair=ru-en,model=writer_palmyra-x-v2/display_predictions.json\n",
      "download  https://storage.googleapis.com/crfm-helm-public/lite/benchmark_output/runs/v1.0.0/wmt_14:language_pair=ru-en,model=writer_palmyra-x-v3/display_predictions.json\n"
     ]
    }
   ],
   "source": [
    "for tasks in [tasks_list]:\n",
    "    \n",
    "    for task in tqdm(tasks):\n",
    "        cur_save_dir = f\"{save_dir}/{task}\"\n",
    "        os.makedirs(cur_save_dir, exist_ok=True)\n",
    "\n",
    "        for file_type in [\n",
    "                # \"run_spec\",\n",
    "                # \"stats\",\n",
    "                # \"per_instance_stats\",\n",
    "                # \"instances\",\n",
    "                \"scenario_state\",  # this file contains all the useful bits\n",
    "                \"display_predictions\",\n",
    "                # \"display_requests\",\n",
    "                # \"scenario\",\n",
    "        ]:\n",
    "            save_path = f\"{cur_save_dir}/{file_type}.json\"\n",
    "            if os.path.exists(save_path):\n",
    "                with open(save_path) as f:\n",
    "                    data = json.load(f)\n",
    "                if data is None or overwrite:\n",
    "                    download = True\n",
    "                else: \n",
    "                    download = False\n",
    "            else:\n",
    "                download = True\n",
    "                                \n",
    "            #https://storage.googleapis.com/crfm-helm-public/benchmark_output/runs/v0.2.2/babi_qa:task=15,model=AlephAlpha_luminous-base/scenario_state.json\n",
    "            \n",
    "            if download:            \n",
    "                cur_url = f\"{template_url}/{task}/{file_type}.json\"\n",
    "                print(\"download \",  cur_url)\n",
    "                json.dump(get_json_from_url(cur_url), open(save_path, \"w\"), indent=2)"
   ]
  }
 ],
 "metadata": {
  "kernelspec": {
   "display_name": "Python 3 (ipykernel)",
   "language": "python",
   "name": "python3"
  },
  "language_info": {
   "codemirror_mode": {
    "name": "ipython",
    "version": 3
   },
   "file_extension": ".py",
   "mimetype": "text/x-python",
   "name": "python",
   "nbconvert_exporter": "python",
   "pygments_lexer": "ipython3",
   "version": "3.11.5"
  }
 },
 "nbformat": 4,
 "nbformat_minor": 5
}
